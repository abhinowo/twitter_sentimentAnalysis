{
 "cells": [
  {
   "cell_type": "code",
   "execution_count": 43,
   "metadata": {
    "collapsed": true
   },
   "outputs": [
    {
     "name": "stdout",
     "output_type": "stream",
     "text": [
      "(4851, 13)\n"
     ]
    },
    {
     "data": {
      "text/html": [
       "<div>\n",
       "<style scoped>\n",
       "    .dataframe tbody tr th:only-of-type {\n",
       "        vertical-align: middle;\n",
       "    }\n",
       "\n",
       "    .dataframe tbody tr th {\n",
       "        vertical-align: top;\n",
       "    }\n",
       "\n",
       "    .dataframe thead th {\n",
       "        text-align: right;\n",
       "    }\n",
       "</style>\n",
       "<table border=\"1\" class=\"dataframe\">\n",
       "  <thead>\n",
       "    <tr style=\"text-align: right;\">\n",
       "      <th></th>\n",
       "      <th>raw_text</th>\n",
       "      <th>1st_clean_twitter</th>\n",
       "      <th>1st_clean_twitter_gensim</th>\n",
       "      <th>2nd_punctuation</th>\n",
       "      <th>2nd_punctuation_gensim</th>\n",
       "      <th>3rd_emoji</th>\n",
       "      <th>3rd_emoji_gensim</th>\n",
       "      <th>4th_tokenized</th>\n",
       "      <th>4th_tokenized_gensim</th>\n",
       "      <th>sentence</th>\n",
       "      <th>5_tagged</th>\n",
       "      <th>emotion</th>\n",
       "      <th>is_spam</th>\n",
       "    </tr>\n",
       "  </thead>\n",
       "  <tbody>\n",
       "    <tr>\n",
       "      <th>0</th>\n",
       "      <td>cepet bgt si…. #10YearsOf5SOS</td>\n",
       "      <td>cepet bgt si….  10YearsOf5SOS</td>\n",
       "      <td>cepet bgt si….</td>\n",
       "      <td>cepet bgt si…  10YearsOf5SOS</td>\n",
       "      <td>cepet bgt si….</td>\n",
       "      <td>cepet bgt si…  10YearsOf5SOS</td>\n",
       "      <td>cepet bgt si….</td>\n",
       "      <td>[cepet, bgt, si…, 10YearsOf5SOS]</td>\n",
       "      <td>[cepet, bgt, si…, .]</td>\n",
       "      <td>Sentence: \"cepet bgt si… 10YearsOf5SOS\"   [− T...</td>\n",
       "      <td>[cepet_PROPN, bgt_PROPN, si…_PROPN, 10YearsOf5...</td>\n",
       "      <td>s</td>\n",
       "      <td>NaN</td>\n",
       "    </tr>\n",
       "    <tr>\n",
       "      <th>1</th>\n",
       "      <td>Hallo Guys semoga kalian sehat selalu\\n\\nYang ...</td>\n",
       "      <td>Hallo Guys semoga kalian sehat selalu\\n\\nYang ...</td>\n",
       "      <td>Hallo Guys semoga kalian sehat selalu\\n\\nYang ...</td>\n",
       "      <td>Hallo Guys semoga kalian sehat selalu\\n\\nYang ...</td>\n",
       "      <td>Hallo Guys semoga kalian sehat selalu\\n\\nYang ...</td>\n",
       "      <td>Hallo Guys semoga kalian sehat selalu\\n\\nYang ...</td>\n",
       "      <td>Hallo Guys semoga kalian sehat selalu\\n\\nYang ...</td>\n",
       "      <td>[Hallo, Guys, semoga, kalian, sehat, selalu, Y...</td>\n",
       "      <td>[Hallo, Guys, semoga, kalian, sehat, selalu, Y...</td>\n",
       "      <td>Sentence: \"Hallo Guys semoga kalian sehat sela...</td>\n",
       "      <td>[Hallo_PROPN, Guys_PROPN, semoga_ADV, kalian_P...</td>\n",
       "      <td>NaN</td>\n",
       "      <td>NaN</td>\n",
       "    </tr>\n",
       "    <tr>\n",
       "      <th>2</th>\n",
       "      <td>#10YearsOf5SOS udah 10 tahun ajaa time flies.....</td>\n",
       "      <td>10YearsOf5SOS udah 10 tahun ajaa time flies.....</td>\n",
       "      <td>udah 10 tahun ajaa time flies.. eh tapi aku b...</td>\n",
       "      <td>10YearsOf5SOS udah 10 tahun ajaa time flies e...</td>\n",
       "      <td>udah 10 tahun ajaa time flies.. eh tapi aku b...</td>\n",
       "      <td>10YearsOf5SOS udah 10 tahun ajaa time flies e...</td>\n",
       "      <td>udah 10 tahun ajaa time flies.. eh tapi aku b...</td>\n",
       "      <td>[10YearsOf5SOS, udah, 10, tahun, ajaa, time, f...</td>\n",
       "      <td>[udah, 10, tahun, ajaa, time, flies, .., eh, t...</td>\n",
       "      <td>Sentence: \"10YearsOf5SOS udah 10 tahun ajaa ti...</td>\n",
       "      <td>[10YearsOf5SOS_ADV, udah_VERB, 10_NUM, tahun_N...</td>\n",
       "      <td>s</td>\n",
       "      <td>NaN</td>\n",
       "    </tr>\n",
       "    <tr>\n",
       "      <th>3</th>\n",
       "      <td>Ashton mi nene\\n#BackTo2011 #10YearsOf5SOS  #5...</td>\n",
       "      <td>Ashton mi nene\\n BackTo2011  10YearsOf5SOS   5...</td>\n",
       "      <td>Ashton mi nene\\n</td>\n",
       "      <td>Ashton mi nene\\n BackTo2011  10YearsOf5SOS   5...</td>\n",
       "      <td>Ashton mi nene\\n</td>\n",
       "      <td>Ashton mi nene\\n BackTo2011  10YearsOf5SOS   5...</td>\n",
       "      <td>Ashton mi nene\\n</td>\n",
       "      <td>[Ashton, mi, nene, BackTo2011, 10YearsOf5SOS, ...</td>\n",
       "      <td>[Ashton, mi, nene]</td>\n",
       "      <td>Sentence: \"Ashton mi nene BackTo2011 10YearsOf...</td>\n",
       "      <td>[Ashton_PROPN, mi_PROPN, nene_PROPN, BackTo201...</td>\n",
       "      <td>NaN</td>\n",
       "      <td>NaN</td>\n",
       "    </tr>\n",
       "    <tr>\n",
       "      <th>4</th>\n",
       "      <td>MYT mohegan sun, 2018 💖 #10YearsOf5SOS #5SOS h...</td>\n",
       "      <td>MYT mohegan sun, 2018 💖  10YearsOf5SOS  5SOS</td>\n",
       "      <td>MYT mohegan sun, 2018 💖</td>\n",
       "      <td>MYT mohegan sun 2018 💖  10YearsOf5SOS  5SOS</td>\n",
       "      <td>MYT mohegan sun, 2018 💖</td>\n",
       "      <td>MYT mohegan sun 2018   10YearsOf5SOS  5SOS</td>\n",
       "      <td>MYT mohegan sun, 2018</td>\n",
       "      <td>[MYT, mohegan, sun, 2018, 10YearsOf5SOS, 5SOS]</td>\n",
       "      <td>[MYT, mohegan, sun, ,, 2018]</td>\n",
       "      <td>Sentence: \"MYT mohegan sun 2018 10YearsOf5SOS ...</td>\n",
       "      <td>[MYT_PROPN, mohegan_PROPN, sun_PROPN, 2018_NUM...</td>\n",
       "      <td>NaN</td>\n",
       "      <td>NaN</td>\n",
       "    </tr>\n",
       "  </tbody>\n",
       "</table>\n",
       "</div>"
      ],
      "text/plain": [
       "                                            raw_text  \\\n",
       "0                      cepet bgt si…. #10YearsOf5SOS   \n",
       "1  Hallo Guys semoga kalian sehat selalu\\n\\nYang ...   \n",
       "2  #10YearsOf5SOS udah 10 tahun ajaa time flies.....   \n",
       "3  Ashton mi nene\\n#BackTo2011 #10YearsOf5SOS  #5...   \n",
       "4  MYT mohegan sun, 2018 💖 #10YearsOf5SOS #5SOS h...   \n",
       "\n",
       "                                   1st_clean_twitter  \\\n",
       "0                      cepet bgt si….  10YearsOf5SOS   \n",
       "1  Hallo Guys semoga kalian sehat selalu\\n\\nYang ...   \n",
       "2   10YearsOf5SOS udah 10 tahun ajaa time flies.....   \n",
       "3  Ashton mi nene\\n BackTo2011  10YearsOf5SOS   5...   \n",
       "4      MYT mohegan sun, 2018 💖  10YearsOf5SOS  5SOS    \n",
       "\n",
       "                            1st_clean_twitter_gensim  \\\n",
       "0                                    cepet bgt si….    \n",
       "1  Hallo Guys semoga kalian sehat selalu\\n\\nYang ...   \n",
       "2   udah 10 tahun ajaa time flies.. eh tapi aku b...   \n",
       "3                               Ashton mi nene\\n       \n",
       "4                         MYT mohegan sun, 2018 💖      \n",
       "\n",
       "                                     2nd_punctuation  \\\n",
       "0                       cepet bgt si…  10YearsOf5SOS   \n",
       "1  Hallo Guys semoga kalian sehat selalu\\n\\nYang ...   \n",
       "2   10YearsOf5SOS udah 10 tahun ajaa time flies e...   \n",
       "3  Ashton mi nene\\n BackTo2011  10YearsOf5SOS   5...   \n",
       "4       MYT mohegan sun 2018 💖  10YearsOf5SOS  5SOS    \n",
       "\n",
       "                              2nd_punctuation_gensim  \\\n",
       "0                                    cepet bgt si….    \n",
       "1  Hallo Guys semoga kalian sehat selalu\\n\\nYang ...   \n",
       "2   udah 10 tahun ajaa time flies.. eh tapi aku b...   \n",
       "3                               Ashton mi nene\\n       \n",
       "4                         MYT mohegan sun, 2018 💖      \n",
       "\n",
       "                                           3rd_emoji  \\\n",
       "0                       cepet bgt si…  10YearsOf5SOS   \n",
       "1  Hallo Guys semoga kalian sehat selalu\\n\\nYang ...   \n",
       "2   10YearsOf5SOS udah 10 tahun ajaa time flies e...   \n",
       "3  Ashton mi nene\\n BackTo2011  10YearsOf5SOS   5...   \n",
       "4        MYT mohegan sun 2018   10YearsOf5SOS  5SOS    \n",
       "\n",
       "                                    3rd_emoji_gensim  \\\n",
       "0                                    cepet bgt si….    \n",
       "1  Hallo Guys semoga kalian sehat selalu\\n\\nYang ...   \n",
       "2   udah 10 tahun ajaa time flies.. eh tapi aku b...   \n",
       "3                               Ashton mi nene\\n       \n",
       "4                          MYT mohegan sun, 2018       \n",
       "\n",
       "                                       4th_tokenized  \\\n",
       "0                   [cepet, bgt, si…, 10YearsOf5SOS]   \n",
       "1  [Hallo, Guys, semoga, kalian, sehat, selalu, Y...   \n",
       "2  [10YearsOf5SOS, udah, 10, tahun, ajaa, time, f...   \n",
       "3  [Ashton, mi, nene, BackTo2011, 10YearsOf5SOS, ...   \n",
       "4     [MYT, mohegan, sun, 2018, 10YearsOf5SOS, 5SOS]   \n",
       "\n",
       "                                4th_tokenized_gensim  \\\n",
       "0                               [cepet, bgt, si…, .]   \n",
       "1  [Hallo, Guys, semoga, kalian, sehat, selalu, Y...   \n",
       "2  [udah, 10, tahun, ajaa, time, flies, .., eh, t...   \n",
       "3                                 [Ashton, mi, nene]   \n",
       "4                       [MYT, mohegan, sun, ,, 2018]   \n",
       "\n",
       "                                            sentence  \\\n",
       "0  Sentence: \"cepet bgt si… 10YearsOf5SOS\"   [− T...   \n",
       "1  Sentence: \"Hallo Guys semoga kalian sehat sela...   \n",
       "2  Sentence: \"10YearsOf5SOS udah 10 tahun ajaa ti...   \n",
       "3  Sentence: \"Ashton mi nene BackTo2011 10YearsOf...   \n",
       "4  Sentence: \"MYT mohegan sun 2018 10YearsOf5SOS ...   \n",
       "\n",
       "                                            5_tagged emotion  is_spam  \n",
       "0  [cepet_PROPN, bgt_PROPN, si…_PROPN, 10YearsOf5...       s      NaN  \n",
       "1  [Hallo_PROPN, Guys_PROPN, semoga_ADV, kalian_P...     NaN      NaN  \n",
       "2  [10YearsOf5SOS_ADV, udah_VERB, 10_NUM, tahun_N...       s      NaN  \n",
       "3  [Ashton_PROPN, mi_PROPN, nene_PROPN, BackTo201...     NaN      NaN  \n",
       "4  [MYT_PROPN, mohegan_PROPN, sun_PROPN, 2018_NUM...     NaN      NaN  "
      ]
     },
     "execution_count": 43,
     "metadata": {},
     "output_type": "execute_result"
    }
   ],
   "source": [
    "import pandas as pd\n",
    "\n",
    "tweets_df = pd.concat([pd.read_json('../dataset/tweet-processed.json', orient='index'), pd.read_excel('../dataset/tweet-label.xlsx').drop(['Unnamed: 0', 'raw_text'], axis=1)], axis=1)\n",
    "print(tweets_df.shape)\n",
    "tweets_df.head()"
   ]
  },
  {
   "cell_type": "code",
   "execution_count": 44,
   "metadata": {
    "collapsed": false,
    "pycharm": {
     "name": "#%%\n"
    }
   },
   "outputs": [],
   "source": [
    "tweets_df = tweets_df.drop_duplicates('3rd_emoji_gensim')"
   ]
  },
  {
   "cell_type": "code",
   "execution_count": 45,
   "metadata": {
    "collapsed": false,
    "pycharm": {
     "name": "#%%\n"
    }
   },
   "outputs": [
    {
     "data": {
      "text/plain": [
       "<AxesSubplot:xlabel='emotion', ylabel='Count'>"
      ]
     },
     "execution_count": 45,
     "metadata": {},
     "output_type": "execute_result"
    },
    {
     "data": {
      "image/png": "[encoded data removed]",
      "text/plain": [
       "<Figure size 432x288 with 1 Axes>"
      ]
     },
     "metadata": {
      "needs_background": "light"
     },
     "output_type": "display_data"
    }
   ],
   "source": [
    "import seaborn as sns\n",
    "\n",
    "sns.histplot(tweets_df, x='emotion', hue='emotion')"
   ]
  },
  {
   "cell_type": "code",
   "execution_count": 12,
   "metadata": {
    "collapsed": false,
    "pycharm": {
     "name": "#%%\n"
    }
   },
   "outputs": [],
   "source": [
    "tweets_df.drop(['emotion', 'is_spam'], axis=1).to_json('../dataset/tweet-processed.json', orient='index', default_handler=str)\n",
    "tweets_df[['raw_text', 'emotion', 'is_spam']].to_excel('../dataset/tweet-label.xlsx')"
   ]
  },
  {
   "cell_type": "code",
   "execution_count": null,
   "metadata": {
    "collapsed": false,
    "pycharm": {
     "name": "#%%\n"
    }
   },
   "outputs": [],
   "source": []
  }
 ],
 "metadata": {
  "kernelspec": {
   "display_name": "Python 3",
   "language": "python",
   "name": "python3"
  },
  "language_info": {
   "codemirror_mode": {
    "name": "ipython",
    "version": 2
   },
   "file_extension": ".py",
   "mimetype": "text/x-python",
   "name": "python",
   "nbconvert_exporter": "python",
   "pygments_lexer": "ipython2",
   "version": "3.9.5"
  }
 },
 "nbformat": 4,
 "nbformat_minor": 0
}
