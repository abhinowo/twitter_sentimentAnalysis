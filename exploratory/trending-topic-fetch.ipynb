{
 "cells": [
  {
   "cell_type": "code",
   "execution_count": 1,
   "metadata": {
    "collapsed": true
   },
   "outputs": [],
   "source": [
    "import pandas as pd\n",
    "import twitter"
   ]
  },
  {
   "cell_type": "code",
   "execution_count": 2,
   "outputs": [],
   "source": [
    "with open('../credential/bearer_token.txt') as f:\n",
    "    BEARER_TOKEN = f.read()\n",
    "\n",
    "t_h = twitter.Twitter(auth=twitter.OAuth2(bearer_token=BEARER_TOKEN))"
   ],
   "metadata": {
    "collapsed": false,
    "pycharm": {
     "name": "#%%\n"
    }
   }
  },
  {
   "cell_type": "code",
   "execution_count": 3,
   "outputs": [
    {
     "data": {
      "text/plain": "[{'name': 'Jakarta',\n  'placeType': {'code': 7, 'name': 'Town'},\n  'url': 'http://where.yahooapis.com/v1/place/1047378',\n  'parentid': 23424846,\n  'country': 'Indonesia',\n  'woeid': 1047378,\n  'countryCode': 'ID'}]"
     },
     "execution_count": 3,
     "metadata": {},
     "output_type": "execute_result"
    }
   ],
   "source": [
    "# Fetch trending topic\n",
    "t_h.trends.closest(lat=-6.1753, long=106.8263)\n",
    "\n",
    "# Verdict: 1047378 is Jakarta on WOEID\n",
    "\n"
   ],
   "metadata": {
    "collapsed": false,
    "pycharm": {
     "name": "#%%\n"
    }
   }
  },
  {
   "cell_type": "code",
   "execution_count": 4,
   "outputs": [
    {
     "ename": "TwitterHTTPError",
     "evalue": "Twitter sent status 404 for URL: 1.1/trends/place/1.json using parameters: ()\ndetails: {'errors': [{'message': 'Sorry, that page does not exist', 'code': 34}]}",
     "output_type": "error",
     "traceback": [
      "\u001B[1;31m---------------------------------------------------------------------------\u001B[0m",
      "\u001B[1;31mHTTPError\u001B[0m                                 Traceback (most recent call last)",
      "\u001B[1;32m~\\miniconda3\\lib\\site-packages\\twitter\\api.py\u001B[0m in \u001B[0;36m_handle_response\u001B[1;34m(self, req, uri, arg_data, _timeout)\u001B[0m\n\u001B[0;32m    374\u001B[0m             \u001B[0mkwargs\u001B[0m\u001B[1;33m[\u001B[0m\u001B[1;34m'context'\u001B[0m\u001B[1;33m]\u001B[0m \u001B[1;33m=\u001B[0m \u001B[0mcontext\u001B[0m\u001B[1;33m\u001B[0m\u001B[1;33m\u001B[0m\u001B[0m\n\u001B[1;32m--> 375\u001B[1;33m             \u001B[0mhandle\u001B[0m \u001B[1;33m=\u001B[0m \u001B[0murllib_request\u001B[0m\u001B[1;33m.\u001B[0m\u001B[0murlopen\u001B[0m\u001B[1;33m(\u001B[0m\u001B[0mreq\u001B[0m\u001B[1;33m,\u001B[0m \u001B[1;33m**\u001B[0m\u001B[0mkwargs\u001B[0m\u001B[1;33m)\u001B[0m\u001B[1;33m\u001B[0m\u001B[1;33m\u001B[0m\u001B[0m\n\u001B[0m\u001B[0;32m    376\u001B[0m             \u001B[1;32mif\u001B[0m \u001B[0mhandle\u001B[0m\u001B[1;33m.\u001B[0m\u001B[0mheaders\u001B[0m\u001B[1;33m[\u001B[0m\u001B[1;34m'Content-Type'\u001B[0m\u001B[1;33m]\u001B[0m \u001B[1;32min\u001B[0m \u001B[1;33m[\u001B[0m\u001B[1;34m'image/jpeg'\u001B[0m\u001B[1;33m,\u001B[0m \u001B[1;34m'image/png'\u001B[0m\u001B[1;33m]\u001B[0m\u001B[1;33m:\u001B[0m\u001B[1;33m\u001B[0m\u001B[1;33m\u001B[0m\u001B[0m\n",
      "\u001B[1;32m~\\miniconda3\\lib\\urllib\\request.py\u001B[0m in \u001B[0;36murlopen\u001B[1;34m(url, data, timeout, cafile, capath, cadefault, context)\u001B[0m\n\u001B[0;32m    221\u001B[0m         \u001B[0mopener\u001B[0m \u001B[1;33m=\u001B[0m \u001B[0m_opener\u001B[0m\u001B[1;33m\u001B[0m\u001B[1;33m\u001B[0m\u001B[0m\n\u001B[1;32m--> 222\u001B[1;33m     \u001B[1;32mreturn\u001B[0m \u001B[0mopener\u001B[0m\u001B[1;33m.\u001B[0m\u001B[0mopen\u001B[0m\u001B[1;33m(\u001B[0m\u001B[0murl\u001B[0m\u001B[1;33m,\u001B[0m \u001B[0mdata\u001B[0m\u001B[1;33m,\u001B[0m \u001B[0mtimeout\u001B[0m\u001B[1;33m)\u001B[0m\u001B[1;33m\u001B[0m\u001B[1;33m\u001B[0m\u001B[0m\n\u001B[0m\u001B[0;32m    223\u001B[0m \u001B[1;33m\u001B[0m\u001B[0m\n",
      "\u001B[1;32m~\\miniconda3\\lib\\urllib\\request.py\u001B[0m in \u001B[0;36mopen\u001B[1;34m(self, fullurl, data, timeout)\u001B[0m\n\u001B[0;32m    530\u001B[0m             \u001B[0mmeth\u001B[0m \u001B[1;33m=\u001B[0m \u001B[0mgetattr\u001B[0m\u001B[1;33m(\u001B[0m\u001B[0mprocessor\u001B[0m\u001B[1;33m,\u001B[0m \u001B[0mmeth_name\u001B[0m\u001B[1;33m)\u001B[0m\u001B[1;33m\u001B[0m\u001B[1;33m\u001B[0m\u001B[0m\n\u001B[1;32m--> 531\u001B[1;33m             \u001B[0mresponse\u001B[0m \u001B[1;33m=\u001B[0m \u001B[0mmeth\u001B[0m\u001B[1;33m(\u001B[0m\u001B[0mreq\u001B[0m\u001B[1;33m,\u001B[0m \u001B[0mresponse\u001B[0m\u001B[1;33m)\u001B[0m\u001B[1;33m\u001B[0m\u001B[1;33m\u001B[0m\u001B[0m\n\u001B[0m\u001B[0;32m    532\u001B[0m \u001B[1;33m\u001B[0m\u001B[0m\n",
      "\u001B[1;32m~\\miniconda3\\lib\\urllib\\request.py\u001B[0m in \u001B[0;36mhttp_response\u001B[1;34m(self, request, response)\u001B[0m\n\u001B[0;32m    639\u001B[0m         \u001B[1;32mif\u001B[0m \u001B[1;32mnot\u001B[0m \u001B[1;33m(\u001B[0m\u001B[1;36m200\u001B[0m \u001B[1;33m<=\u001B[0m \u001B[0mcode\u001B[0m \u001B[1;33m<\u001B[0m \u001B[1;36m300\u001B[0m\u001B[1;33m)\u001B[0m\u001B[1;33m:\u001B[0m\u001B[1;33m\u001B[0m\u001B[1;33m\u001B[0m\u001B[0m\n\u001B[1;32m--> 640\u001B[1;33m             response = self.parent.error(\n\u001B[0m\u001B[0;32m    641\u001B[0m                 'http', request, response, code, msg, hdrs)\n",
      "\u001B[1;32m~\\miniconda3\\lib\\urllib\\request.py\u001B[0m in \u001B[0;36merror\u001B[1;34m(self, proto, *args)\u001B[0m\n\u001B[0;32m    568\u001B[0m             \u001B[0margs\u001B[0m \u001B[1;33m=\u001B[0m \u001B[1;33m(\u001B[0m\u001B[0mdict\u001B[0m\u001B[1;33m,\u001B[0m \u001B[1;34m'default'\u001B[0m\u001B[1;33m,\u001B[0m \u001B[1;34m'http_error_default'\u001B[0m\u001B[1;33m)\u001B[0m \u001B[1;33m+\u001B[0m \u001B[0morig_args\u001B[0m\u001B[1;33m\u001B[0m\u001B[1;33m\u001B[0m\u001B[0m\n\u001B[1;32m--> 569\u001B[1;33m             \u001B[1;32mreturn\u001B[0m \u001B[0mself\u001B[0m\u001B[1;33m.\u001B[0m\u001B[0m_call_chain\u001B[0m\u001B[1;33m(\u001B[0m\u001B[1;33m*\u001B[0m\u001B[0margs\u001B[0m\u001B[1;33m)\u001B[0m\u001B[1;33m\u001B[0m\u001B[1;33m\u001B[0m\u001B[0m\n\u001B[0m\u001B[0;32m    570\u001B[0m \u001B[1;33m\u001B[0m\u001B[0m\n",
      "\u001B[1;32m~\\miniconda3\\lib\\urllib\\request.py\u001B[0m in \u001B[0;36m_call_chain\u001B[1;34m(self, chain, kind, meth_name, *args)\u001B[0m\n\u001B[0;32m    501\u001B[0m             \u001B[0mfunc\u001B[0m \u001B[1;33m=\u001B[0m \u001B[0mgetattr\u001B[0m\u001B[1;33m(\u001B[0m\u001B[0mhandler\u001B[0m\u001B[1;33m,\u001B[0m \u001B[0mmeth_name\u001B[0m\u001B[1;33m)\u001B[0m\u001B[1;33m\u001B[0m\u001B[1;33m\u001B[0m\u001B[0m\n\u001B[1;32m--> 502\u001B[1;33m             \u001B[0mresult\u001B[0m \u001B[1;33m=\u001B[0m \u001B[0mfunc\u001B[0m\u001B[1;33m(\u001B[0m\u001B[1;33m*\u001B[0m\u001B[0margs\u001B[0m\u001B[1;33m)\u001B[0m\u001B[1;33m\u001B[0m\u001B[1;33m\u001B[0m\u001B[0m\n\u001B[0m\u001B[0;32m    503\u001B[0m             \u001B[1;32mif\u001B[0m \u001B[0mresult\u001B[0m \u001B[1;32mis\u001B[0m \u001B[1;32mnot\u001B[0m \u001B[1;32mNone\u001B[0m\u001B[1;33m:\u001B[0m\u001B[1;33m\u001B[0m\u001B[1;33m\u001B[0m\u001B[0m\n",
      "\u001B[1;32m~\\miniconda3\\lib\\urllib\\request.py\u001B[0m in \u001B[0;36mhttp_error_default\u001B[1;34m(self, req, fp, code, msg, hdrs)\u001B[0m\n\u001B[0;32m    648\u001B[0m     \u001B[1;32mdef\u001B[0m \u001B[0mhttp_error_default\u001B[0m\u001B[1;33m(\u001B[0m\u001B[0mself\u001B[0m\u001B[1;33m,\u001B[0m \u001B[0mreq\u001B[0m\u001B[1;33m,\u001B[0m \u001B[0mfp\u001B[0m\u001B[1;33m,\u001B[0m \u001B[0mcode\u001B[0m\u001B[1;33m,\u001B[0m \u001B[0mmsg\u001B[0m\u001B[1;33m,\u001B[0m \u001B[0mhdrs\u001B[0m\u001B[1;33m)\u001B[0m\u001B[1;33m:\u001B[0m\u001B[1;33m\u001B[0m\u001B[1;33m\u001B[0m\u001B[0m\n\u001B[1;32m--> 649\u001B[1;33m         \u001B[1;32mraise\u001B[0m \u001B[0mHTTPError\u001B[0m\u001B[1;33m(\u001B[0m\u001B[0mreq\u001B[0m\u001B[1;33m.\u001B[0m\u001B[0mfull_url\u001B[0m\u001B[1;33m,\u001B[0m \u001B[0mcode\u001B[0m\u001B[1;33m,\u001B[0m \u001B[0mmsg\u001B[0m\u001B[1;33m,\u001B[0m \u001B[0mhdrs\u001B[0m\u001B[1;33m,\u001B[0m \u001B[0mfp\u001B[0m\u001B[1;33m)\u001B[0m\u001B[1;33m\u001B[0m\u001B[1;33m\u001B[0m\u001B[0m\n\u001B[0m\u001B[0;32m    650\u001B[0m \u001B[1;33m\u001B[0m\u001B[0m\n",
      "\u001B[1;31mHTTPError\u001B[0m: HTTP Error 404: Not Found",
      "\nDuring handling of the above exception, another exception occurred:\n",
      "\u001B[1;31mTwitterHTTPError\u001B[0m                          Traceback (most recent call last)",
      "\u001B[1;32m~\\AppData\\Local\\Temp/ipykernel_10948/1868631467.py\u001B[0m in \u001B[0;36m<module>\u001B[1;34m\u001B[0m\n\u001B[1;32m----> 1\u001B[1;33m \u001B[0mt_h\u001B[0m\u001B[1;33m.\u001B[0m\u001B[0mtrends\u001B[0m\u001B[1;33m.\u001B[0m\u001B[0mplace\u001B[0m\u001B[1;33m(\u001B[0m\u001B[0mid\u001B[0m\u001B[1;33m=\u001B[0m\u001B[1;36m1\u001B[0m\u001B[1;33m)\u001B[0m\u001B[1;33m\u001B[0m\u001B[1;33m\u001B[0m\u001B[0m\n\u001B[0m\u001B[0;32m      2\u001B[0m \u001B[1;33m\u001B[0m\u001B[0m\n\u001B[0;32m      3\u001B[0m \u001B[1;31m# Verdict: twitter library is broken.\u001B[0m\u001B[1;33m\u001B[0m\u001B[1;33m\u001B[0m\u001B[1;33m\u001B[0m\u001B[0m\n",
      "\u001B[1;32m~\\miniconda3\\lib\\site-packages\\twitter\\api.py\u001B[0m in \u001B[0;36m__call__\u001B[1;34m(self, **kwargs)\u001B[0m\n\u001B[0;32m    362\u001B[0m             \u001B[1;32mreturn\u001B[0m \u001B[0mself\u001B[0m\u001B[1;33m.\u001B[0m\u001B[0m_handle_response_with_retry\u001B[0m\u001B[1;33m(\u001B[0m\u001B[0mreq\u001B[0m\u001B[1;33m,\u001B[0m \u001B[0muri\u001B[0m\u001B[1;33m,\u001B[0m \u001B[0marg_data\u001B[0m\u001B[1;33m,\u001B[0m \u001B[0m_timeout\u001B[0m\u001B[1;33m)\u001B[0m\u001B[1;33m\u001B[0m\u001B[1;33m\u001B[0m\u001B[0m\n\u001B[0;32m    363\u001B[0m         \u001B[1;32melse\u001B[0m\u001B[1;33m:\u001B[0m\u001B[1;33m\u001B[0m\u001B[1;33m\u001B[0m\u001B[0m\n\u001B[1;32m--> 364\u001B[1;33m             \u001B[1;32mreturn\u001B[0m \u001B[0mself\u001B[0m\u001B[1;33m.\u001B[0m\u001B[0m_handle_response\u001B[0m\u001B[1;33m(\u001B[0m\u001B[0mreq\u001B[0m\u001B[1;33m,\u001B[0m \u001B[0muri\u001B[0m\u001B[1;33m,\u001B[0m \u001B[0marg_data\u001B[0m\u001B[1;33m,\u001B[0m \u001B[0m_timeout\u001B[0m\u001B[1;33m)\u001B[0m\u001B[1;33m\u001B[0m\u001B[1;33m\u001B[0m\u001B[0m\n\u001B[0m\u001B[0;32m    365\u001B[0m \u001B[1;33m\u001B[0m\u001B[0m\n\u001B[0;32m    366\u001B[0m     \u001B[1;32mdef\u001B[0m \u001B[0m_handle_response\u001B[0m\u001B[1;33m(\u001B[0m\u001B[0mself\u001B[0m\u001B[1;33m,\u001B[0m \u001B[0mreq\u001B[0m\u001B[1;33m,\u001B[0m \u001B[0muri\u001B[0m\u001B[1;33m,\u001B[0m \u001B[0marg_data\u001B[0m\u001B[1;33m,\u001B[0m \u001B[0m_timeout\u001B[0m\u001B[1;33m=\u001B[0m\u001B[1;32mNone\u001B[0m\u001B[1;33m)\u001B[0m\u001B[1;33m:\u001B[0m\u001B[1;33m\u001B[0m\u001B[1;33m\u001B[0m\u001B[0m\n",
      "\u001B[1;32m~\\miniconda3\\lib\\site-packages\\twitter\\api.py\u001B[0m in \u001B[0;36m_handle_response\u001B[1;34m(self, req, uri, arg_data, _timeout)\u001B[0m\n\u001B[0;32m    404\u001B[0m                 \u001B[1;32mreturn\u001B[0m \u001B[1;33m[\u001B[0m\u001B[1;33m]\u001B[0m\u001B[1;33m\u001B[0m\u001B[1;33m\u001B[0m\u001B[0m\n\u001B[0;32m    405\u001B[0m             \u001B[1;32melse\u001B[0m\u001B[1;33m:\u001B[0m\u001B[1;33m\u001B[0m\u001B[1;33m\u001B[0m\u001B[0m\n\u001B[1;32m--> 406\u001B[1;33m                 \u001B[1;32mraise\u001B[0m \u001B[0mTwitterHTTPError\u001B[0m\u001B[1;33m(\u001B[0m\u001B[0me\u001B[0m\u001B[1;33m,\u001B[0m \u001B[0muri\u001B[0m\u001B[1;33m,\u001B[0m \u001B[0mself\u001B[0m\u001B[1;33m.\u001B[0m\u001B[0mformat\u001B[0m\u001B[1;33m,\u001B[0m \u001B[0marg_data\u001B[0m\u001B[1;33m)\u001B[0m\u001B[1;33m\u001B[0m\u001B[1;33m\u001B[0m\u001B[0m\n\u001B[0m\u001B[0;32m    407\u001B[0m \u001B[1;33m\u001B[0m\u001B[0m\n\u001B[0;32m    408\u001B[0m     \u001B[1;32mdef\u001B[0m \u001B[0m_handle_response_with_retry\u001B[0m\u001B[1;33m(\u001B[0m\u001B[0mself\u001B[0m\u001B[1;33m,\u001B[0m \u001B[0mreq\u001B[0m\u001B[1;33m,\u001B[0m \u001B[0muri\u001B[0m\u001B[1;33m,\u001B[0m \u001B[0marg_data\u001B[0m\u001B[1;33m,\u001B[0m \u001B[0m_timeout\u001B[0m\u001B[1;33m=\u001B[0m\u001B[1;32mNone\u001B[0m\u001B[1;33m)\u001B[0m\u001B[1;33m:\u001B[0m\u001B[1;33m\u001B[0m\u001B[1;33m\u001B[0m\u001B[0m\n",
      "\u001B[1;31mTwitterHTTPError\u001B[0m: Twitter sent status 404 for URL: 1.1/trends/place/1.json using parameters: ()\ndetails: {'errors': [{'message': 'Sorry, that page does not exist', 'code': 34}]}"
     ]
    }
   ],
   "source": [
    "t_h.trends.place(id=1)\n",
    "\n",
    "# Verdict: twitter library is broken."
   ],
   "metadata": {
    "collapsed": false,
    "pycharm": {
     "name": "#%%\n"
    }
   }
  },
  {
   "cell_type": "code",
   "execution_count": 6,
   "outputs": [],
   "source": [
    "# Therefore, we are using GET request.\n",
    "import requests\n",
    "\n",
    "jakarta_trending = requests.get(\"https://api.twitter.com/1.1/trends/place.json?id=1047378\", headers={'Authorization': 'Bearer '+BEARER_TOKEN})"
   ],
   "metadata": {
    "collapsed": false,
    "pycharm": {
     "name": "#%%\n"
    }
   }
  },
  {
   "cell_type": "code",
   "execution_count": 7,
   "outputs": [
    {
     "data": {
      "text/plain": "'[{\"trends\":[{\"name\":\"#LangitSenjaKita\",\"url\":\"http:\\\\/\\\\/twitter.com\\\\/search?q=%23LangitSenjaKita\",\"promoted_content\":null,\"query\":\"%23LangitSenjaKita\",\"tweet_volume\":null},{\"name\":\"#JinggaDanSenja\",\"url\":\"http:\\\\/\\\\/twitter.com\\\\/search?q=%23JinggaDanSenja\",\"promoted_content\":null,\"query\":\"%23JinggaDanSenja\",\"tweet_volume\":null},{\"name\":\"#PTD_ON_STAGE_LA_Day4\",\"url\":\"http:\\\\/\\\\/twitter.com\\\\/search?q=%23PTD_ON_STAGE_LA_Day4\",\"promoted_content\":null,\"query\":\"%23PTD_ON_STAGE_LA_Day4\",\"tweet_volume\":158651},{\"name\":\"#LAHeartsJin\",\"url\":\"http:\\\\/\\\\/twitter.com\\\\/search?q=%23LAHeartsJin\",\"promoted_content\":null,\"query\":\"%23LAHeartsJin\",\"tweet_volume\":51558},{\"name\":\"Jangan Abaikan Prokes\",\"url\":\"http:\\\\/\\\\/twitter.com\\\\/search?q=%22Jangan+Abaikan+Prokes%22\",\"promoted_content\":null,\"query\":\"%22Jangan+Abaikan+Prokes%22\",\"tweet_volume\":null},{\"name\":\"Sosialisasi Edukasi Cyber\",\"url\":\"http:\\\\/\\\\/twitter.com\\\\/search?q=%22Sosialisasi+Edukasi+Cyber%22\",\"promoted_content\":null,\"query\":\"%22Sosialisasi+Edukasi+Cyber%22\",\"tweet_volume\":10517},{\"name\":\"3 Desember\",\"url\":\"http:\\\\/\\\\/twitter.com\\\\/search?q=%223+Desember%22\",\"promoted_content\":null,\"query\":\"%223+Desember%22\",\"tweet_volume\":11530},{\"name\":\"3rd of December\",\"url\":\"http:\\\\/\\\\/twitter.com\\\\/search?q=%223rd+of+December%22\",\"promoted_content\":null,\"query\":\"%223rd+of+December%22\",\"tweet_volume\":37426},{\"name\":\"GreyAp\",\"url\":\"http:\\\\/\\\\/twitter.com\\\\/search?q=GreyAp\",\"promoted_content\":null,\"query\":\"GreyAp\",\"tweet_volume\":null},{\"name\":\"Black Swan\",\"url\":\"http:\\\\/\\\\/twitter.com\\\\/search?q=%22Black+Swan%22\",\"promoted_content\":null,\"query\":\"%22Black+Swan%22\",\"tweet_volume\":85202},{\"name\":\"HAPPY 100M SEVENTEEN\\'S CLAP\",\"url\":\"http:\\\\/\\\\/twitter.com\\\\/search?q=%22HAPPY+100M+SEVENTEEN%27S+CLAP%22\",\"promoted_content\":null,\"query\":\"%22HAPPY+100M+SEVENTEEN%27S+CLAP%22\",\"tweet_volume\":12499},{\"name\":\"FAKE LOVE\",\"url\":\"http:\\\\/\\\\/twitter.com\\\\/search?q=%22FAKE+LOVE%22\",\"promoted_content\":null,\"query\":\"%22FAKE+LOVE%22\",\"tweet_volume\":41560},{\"name\":\"seokjin\",\"url\":\"http:\\\\/\\\\/twitter.com\\\\/search?q=seokjin\",\"promoted_content\":null,\"query\":\"seokjin\",\"tweet_volume\":558839},{\"name\":\"KAVIN\\'S BIRTHDAY\",\"url\":\"http:\\\\/\\\\/twitter.com\\\\/search?q=%22KAVIN%27S+BIRTHDAY%22\",\"promoted_content\":null,\"query\":\"%22KAVIN%27S+BIRTHDAY%22\",\"tweet_volume\":36818},{\"name\":\"SO WHAT\",\"url\":\"http:\\\\/\\\\/twitter.com\\\\/search?q=%22SO+WHAT%22\",\"promoted_content\":null,\"query\":\"%22SO+WHAT%22\",\"tweet_volume\":551284},{\"name\":\"Carrick\",\"url\":\"http:\\\\/\\\\/twitter.com\\\\/search?q=Carrick\",\"promoted_content\":null,\"query\":\"Carrick\",\"tweet_volume\":121405},{\"name\":\"Inklusif\",\"url\":\"http:\\\\/\\\\/twitter.com\\\\/search?q=Inklusif\",\"promoted_content\":null,\"query\":\"Inklusif\",\"tweet_volume\":null},{\"name\":\"Arsenal\",\"url\":\"http:\\\\/\\\\/twitter.com\\\\/search?q=Arsenal\",\"promoted_content\":null,\"query\":\"Arsenal\",\"tweet_volume\":348226},{\"name\":\"Kuy Berislam Kaffah\",\"url\":\"http:\\\\/\\\\/twitter.com\\\\/search?q=%22Kuy+Berislam+Kaffah%22\",\"promoted_content\":null,\"query\":\"%22Kuy+Berislam+Kaffah%22\",\"tweet_volume\":null},{\"name\":\"Heather\",\"url\":\"http:\\\\/\\\\/twitter.com\\\\/search?q=Heather\",\"promoted_content\":null,\"query\":\"Heather\",\"tweet_volume\":25051},{\"name\":\"SEVENTEEN SINGER OF THE YEAR\",\"url\":\"http:\\\\/\\\\/twitter.com\\\\/search?q=%22SEVENTEEN+SINGER+OF+THE+YEAR%22\",\"promoted_content\":null,\"query\":\"%22SEVENTEEN+SINGER+OF+THE+YEAR%22\",\"tweet_volume\":112098},{\"name\":\"bu risma\",\"url\":\"http:\\\\/\\\\/twitter.com\\\\/search?q=%22bu+risma%22\",\"promoted_content\":null,\"query\":\"%22bu+risma%22\",\"tweet_volume\":14157},{\"name\":\"Auba\",\"url\":\"http:\\\\/\\\\/twitter.com\\\\/search?q=Auba\",\"promoted_content\":null,\"query\":\"Auba\",\"tweet_volume\":37107},{\"name\":\"Worldwide Fans\",\"url\":\"http:\\\\/\\\\/twitter.com\\\\/search?q=%22Worldwide+Fans%22\",\"promoted_content\":null,\"query\":\"%22Worldwide+Fans%22\",\"tweet_volume\":243378},{\"name\":\"De Gea\",\"url\":\"http:\\\\/\\\\/twitter.com\\\\/search?q=%22De+Gea%22\",\"promoted_content\":null,\"query\":\"%22De+Gea%22\",\"tweet_volume\":49072},{\"name\":\"Choice Top 10\",\"url\":\"http:\\\\/\\\\/twitter.com\\\\/search?q=%22Choice+Top+10%22\",\"promoted_content\":null,\"query\":\"%22Choice+Top+10%22\",\"tweet_volume\":234490},{\"name\":\"#JumatBerkah\",\"url\":\"http:\\\\/\\\\/twitter.com\\\\/search?q=%23JumatBerkah\",\"promoted_content\":null,\"query\":\"%23JumatBerkah\",\"tweet_volume\":10520},{\"name\":\"#MoonForJinLA\",\"url\":\"http:\\\\/\\\\/twitter.com\\\\/search?q=%23MoonForJinLA\",\"promoted_content\":null,\"query\":\"%23MoonForJinLA\",\"tweet_volume\":44304},{\"name\":\"#PolriTegakkanHukum\",\"url\":\"http:\\\\/\\\\/twitter.com\\\\/search?q=%23PolriTegakkanHukum\",\"promoted_content\":null,\"query\":\"%23PolriTegakkanHukum\",\"tweet_volume\":12124},{\"name\":\"#PSSday\",\"url\":\"http:\\\\/\\\\/twitter.com\\\\/search?q=%23PSSday\",\"promoted_content\":null,\"query\":\"%23PSSday\",\"tweet_volume\":null},{\"name\":\"#CLAP100MillionViews\",\"url\":\"http:\\\\/\\\\/twitter.com\\\\/search?q=%23CLAP100MillionViews\",\"promoted_content\":null,\"query\":\"%23CLAP100MillionViews\",\"tweet_volume\":56408},{\"name\":\"#SolChicks\",\"url\":\"http:\\\\/\\\\/twitter.com\\\\/search?q=%23SolChicks\",\"promoted_content\":null,\"query\":\"%23SolChicks\",\"tweet_volume\":null},{\"name\":\"#CLAP100MViews\",\"url\":\"http:\\\\/\\\\/twitter.com\\\\/search?q=%23CLAP100MViews\",\"promoted_content\":null,\"query\":\"%23CLAP100MViews\",\"tweet_volume\":58128},{\"name\":\"#haridisabilitasinternasional\",\"url\":\"http:\\\\/\\\\/twitter.com\\\\/search?q=%23haridisabilitasinternasional\",\"promoted_content\":null,\"query\":\"%23haridisabilitasinternasional\",\"tweet_volume\":null},{\"name\":\"#HBDF4Kavin\",\"url\":\"http:\\\\/\\\\/twitter.com\\\\/search?q=%23HBDF4Kavin\",\"promoted_content\":null,\"query\":\"%23HBDF4Kavin\",\"tweet_volume\":38975},{\"name\":\"#GanyangSemarang\",\"url\":\"http:\\\\/\\\\/twitter.com\\\\/search?q=%23GanyangSemarang\",\"promoted_content\":null,\"query\":\"%23GanyangSemarang\",\"tweet_volume\":null},{\"name\":\"#PenggadaiNegeri\",\"url\":\"http:\\\\/\\\\/twitter.com\\\\/search?q=%23PenggadaiNegeri\",\"promoted_content\":null,\"query\":\"%23PenggadaiNegeri\",\"tweet_volume\":null},{\"name\":\"#BTSPermissionToDanceOnStageLA\",\"url\":\"http:\\\\/\\\\/twitter.com\\\\/search?q=%23BTSPermissionToDanceOnStageLA\",\"promoted_content\":null,\"query\":\"%23BTSPermissionToDanceOnStageLA\",\"tweet_volume\":50368},{\"name\":\"#TKOSummit2021\",\"url\":\"http:\\\\/\\\\/twitter.com\\\\/search?q=%23TKOSummit2021\",\"promoted_content\":null,\"query\":\"%23TKOSummit2021\",\"tweet_volume\":null},{\"name\":\"#10YearsOf5SOS\",\"url\":\"http:\\\\/\\\\/twitter.com\\\\/search?q=%2310YearsOf5SOS\",\"promoted_content\":null,\"query\":\"%2310YearsOf5SOS\",\"tweet_volume\":38481},{\"name\":\"#Dreamboat\",\"url\":\"http:\\\\/\\\\/twitter.com\\\\/search?q=%23Dreamboat\",\"promoted_content\":null,\"query\":\"%23Dreamboat\",\"tweet_volume\":null},{\"name\":\"#justiceforlaura\",\"url\":\"http:\\\\/\\\\/twitter.com\\\\/search?q=%23justiceforlaura\",\"promoted_content\":null,\"query\":\"%23justiceforlaura\",\"tweet_volume\":null},{\"name\":\"#BRIGHTWINxAAA2021\",\"url\":\"http:\\\\/\\\\/twitter.com\\\\/search?q=%23BRIGHTWINxAAA2021\",\"promoted_content\":null,\"query\":\"%23BRIGHTWINxAAA2021\",\"tweet_volume\":122525},{\"name\":\"#SemangatDakwahkanIslam\",\"url\":\"http:\\\\/\\\\/twitter.com\\\\/search?q=%23SemangatDakwahkanIslam\",\"promoted_content\":null,\"query\":\"%23SemangatDakwahkanIslam\",\"tweet_volume\":null},{\"name\":\"#SyariatIslamYangUtama\",\"url\":\"http:\\\\/\\\\/twitter.com\\\\/search?q=%23SyariatIslamYangUtama\",\"promoted_content\":null,\"query\":\"%23SyariatIslamYangUtama\",\"tweet_volume\":null},{\"name\":\"#HariAhokNasional\",\"url\":\"http:\\\\/\\\\/twitter.com\\\\/search?q=%23HariAhokNasional\",\"promoted_content\":null,\"query\":\"%23HariAhokNasional\",\"tweet_volume\":11606},{\"name\":\"#8yearsWithJeno\",\"url\":\"http:\\\\/\\\\/twitter.com\\\\/search?q=%238yearsWithJeno\",\"promoted_content\":null,\"query\":\"%238yearsWithJeno\",\"tweet_volume\":81262},{\"name\":\"#MUFC\",\"url\":\"http:\\\\/\\\\/twitter.com\\\\/search?q=%23MUFC\",\"promoted_content\":null,\"query\":\"%23MUFC\",\"tweet_volume\":246802},{\"name\":\"#8YearsWithTaeyong\",\"url\":\"http:\\\\/\\\\/twitter.com\\\\/search?q=%238YearsWithTaeyong\",\"promoted_content\":null,\"query\":\"%238YearsWithTaeyong\",\"tweet_volume\":65010}],\"as_of\":\"2021-12-03T05:13:11Z\",\"created_at\":\"2021-11-28T04:27:33Z\",\"locations\":[{\"name\":\"Jakarta\",\"woeid\":1047378}]}]'"
     },
     "execution_count": 7,
     "metadata": {},
     "output_type": "execute_result"
    }
   ],
   "source": [
    "# JSON answer\n",
    "jakarta_trending.text"
   ],
   "metadata": {
    "collapsed": false,
    "pycharm": {
     "name": "#%%\n"
    }
   }
  },
  {
   "cell_type": "code",
   "execution_count": 8,
   "outputs": [
    {
     "data": {
      "text/plain": "[{'trends': [{'name': '#LangitSenjaKita',\n    'url': 'http://twitter.com/search?q=%23LangitSenjaKita',\n    'promoted_content': None,\n    'query': '%23LangitSenjaKita',\n    'tweet_volume': None},\n   {'name': '#JinggaDanSenja',\n    'url': 'http://twitter.com/search?q=%23JinggaDanSenja',\n    'promoted_content': None,\n    'query': '%23JinggaDanSenja',\n    'tweet_volume': None},\n   {'name': '#PTD_ON_STAGE_LA_Day4',\n    'url': 'http://twitter.com/search?q=%23PTD_ON_STAGE_LA_Day4',\n    'promoted_content': None,\n    'query': '%23PTD_ON_STAGE_LA_Day4',\n    'tweet_volume': 158651},\n   {'name': '#LAHeartsJin',\n    'url': 'http://twitter.com/search?q=%23LAHeartsJin',\n    'promoted_content': None,\n    'query': '%23LAHeartsJin',\n    'tweet_volume': 51558},\n   {'name': 'Jangan Abaikan Prokes',\n    'url': 'http://twitter.com/search?q=%22Jangan+Abaikan+Prokes%22',\n    'promoted_content': None,\n    'query': '%22Jangan+Abaikan+Prokes%22',\n    'tweet_volume': None},\n   {'name': 'Sosialisasi Edukasi Cyber',\n    'url': 'http://twitter.com/search?q=%22Sosialisasi+Edukasi+Cyber%22',\n    'promoted_content': None,\n    'query': '%22Sosialisasi+Edukasi+Cyber%22',\n    'tweet_volume': 10517},\n   {'name': '3 Desember',\n    'url': 'http://twitter.com/search?q=%223+Desember%22',\n    'promoted_content': None,\n    'query': '%223+Desember%22',\n    'tweet_volume': 11530},\n   {'name': '3rd of December',\n    'url': 'http://twitter.com/search?q=%223rd+of+December%22',\n    'promoted_content': None,\n    'query': '%223rd+of+December%22',\n    'tweet_volume': 37426},\n   {'name': 'GreyAp',\n    'url': 'http://twitter.com/search?q=GreyAp',\n    'promoted_content': None,\n    'query': 'GreyAp',\n    'tweet_volume': None},\n   {'name': 'Black Swan',\n    'url': 'http://twitter.com/search?q=%22Black+Swan%22',\n    'promoted_content': None,\n    'query': '%22Black+Swan%22',\n    'tweet_volume': 85202},\n   {'name': \"HAPPY 100M SEVENTEEN'S CLAP\",\n    'url': 'http://twitter.com/search?q=%22HAPPY+100M+SEVENTEEN%27S+CLAP%22',\n    'promoted_content': None,\n    'query': '%22HAPPY+100M+SEVENTEEN%27S+CLAP%22',\n    'tweet_volume': 12499},\n   {'name': 'FAKE LOVE',\n    'url': 'http://twitter.com/search?q=%22FAKE+LOVE%22',\n    'promoted_content': None,\n    'query': '%22FAKE+LOVE%22',\n    'tweet_volume': 41560},\n   {'name': 'seokjin',\n    'url': 'http://twitter.com/search?q=seokjin',\n    'promoted_content': None,\n    'query': 'seokjin',\n    'tweet_volume': 558839},\n   {'name': \"KAVIN'S BIRTHDAY\",\n    'url': 'http://twitter.com/search?q=%22KAVIN%27S+BIRTHDAY%22',\n    'promoted_content': None,\n    'query': '%22KAVIN%27S+BIRTHDAY%22',\n    'tweet_volume': 36818},\n   {'name': 'SO WHAT',\n    'url': 'http://twitter.com/search?q=%22SO+WHAT%22',\n    'promoted_content': None,\n    'query': '%22SO+WHAT%22',\n    'tweet_volume': 551284},\n   {'name': 'Carrick',\n    'url': 'http://twitter.com/search?q=Carrick',\n    'promoted_content': None,\n    'query': 'Carrick',\n    'tweet_volume': 121405},\n   {'name': 'Inklusif',\n    'url': 'http://twitter.com/search?q=Inklusif',\n    'promoted_content': None,\n    'query': 'Inklusif',\n    'tweet_volume': None},\n   {'name': 'Arsenal',\n    'url': 'http://twitter.com/search?q=Arsenal',\n    'promoted_content': None,\n    'query': 'Arsenal',\n    'tweet_volume': 348226},\n   {'name': 'Kuy Berislam Kaffah',\n    'url': 'http://twitter.com/search?q=%22Kuy+Berislam+Kaffah%22',\n    'promoted_content': None,\n    'query': '%22Kuy+Berislam+Kaffah%22',\n    'tweet_volume': None},\n   {'name': 'Heather',\n    'url': 'http://twitter.com/search?q=Heather',\n    'promoted_content': None,\n    'query': 'Heather',\n    'tweet_volume': 25051},\n   {'name': 'SEVENTEEN SINGER OF THE YEAR',\n    'url': 'http://twitter.com/search?q=%22SEVENTEEN+SINGER+OF+THE+YEAR%22',\n    'promoted_content': None,\n    'query': '%22SEVENTEEN+SINGER+OF+THE+YEAR%22',\n    'tweet_volume': 112098},\n   {'name': 'bu risma',\n    'url': 'http://twitter.com/search?q=%22bu+risma%22',\n    'promoted_content': None,\n    'query': '%22bu+risma%22',\n    'tweet_volume': 14157},\n   {'name': 'Auba',\n    'url': 'http://twitter.com/search?q=Auba',\n    'promoted_content': None,\n    'query': 'Auba',\n    'tweet_volume': 37107},\n   {'name': 'Worldwide Fans',\n    'url': 'http://twitter.com/search?q=%22Worldwide+Fans%22',\n    'promoted_content': None,\n    'query': '%22Worldwide+Fans%22',\n    'tweet_volume': 243378},\n   {'name': 'De Gea',\n    'url': 'http://twitter.com/search?q=%22De+Gea%22',\n    'promoted_content': None,\n    'query': '%22De+Gea%22',\n    'tweet_volume': 49072},\n   {'name': 'Choice Top 10',\n    'url': 'http://twitter.com/search?q=%22Choice+Top+10%22',\n    'promoted_content': None,\n    'query': '%22Choice+Top+10%22',\n    'tweet_volume': 234490},\n   {'name': '#JumatBerkah',\n    'url': 'http://twitter.com/search?q=%23JumatBerkah',\n    'promoted_content': None,\n    'query': '%23JumatBerkah',\n    'tweet_volume': 10520},\n   {'name': '#MoonForJinLA',\n    'url': 'http://twitter.com/search?q=%23MoonForJinLA',\n    'promoted_content': None,\n    'query': '%23MoonForJinLA',\n    'tweet_volume': 44304},\n   {'name': '#PolriTegakkanHukum',\n    'url': 'http://twitter.com/search?q=%23PolriTegakkanHukum',\n    'promoted_content': None,\n    'query': '%23PolriTegakkanHukum',\n    'tweet_volume': 12124},\n   {'name': '#PSSday',\n    'url': 'http://twitter.com/search?q=%23PSSday',\n    'promoted_content': None,\n    'query': '%23PSSday',\n    'tweet_volume': None},\n   {'name': '#CLAP100MillionViews',\n    'url': 'http://twitter.com/search?q=%23CLAP100MillionViews',\n    'promoted_content': None,\n    'query': '%23CLAP100MillionViews',\n    'tweet_volume': 56408},\n   {'name': '#SolChicks',\n    'url': 'http://twitter.com/search?q=%23SolChicks',\n    'promoted_content': None,\n    'query': '%23SolChicks',\n    'tweet_volume': None},\n   {'name': '#CLAP100MViews',\n    'url': 'http://twitter.com/search?q=%23CLAP100MViews',\n    'promoted_content': None,\n    'query': '%23CLAP100MViews',\n    'tweet_volume': 58128},\n   {'name': '#haridisabilitasinternasional',\n    'url': 'http://twitter.com/search?q=%23haridisabilitasinternasional',\n    'promoted_content': None,\n    'query': '%23haridisabilitasinternasional',\n    'tweet_volume': None},\n   {'name': '#HBDF4Kavin',\n    'url': 'http://twitter.com/search?q=%23HBDF4Kavin',\n    'promoted_content': None,\n    'query': '%23HBDF4Kavin',\n    'tweet_volume': 38975},\n   {'name': '#GanyangSemarang',\n    'url': 'http://twitter.com/search?q=%23GanyangSemarang',\n    'promoted_content': None,\n    'query': '%23GanyangSemarang',\n    'tweet_volume': None},\n   {'name': '#PenggadaiNegeri',\n    'url': 'http://twitter.com/search?q=%23PenggadaiNegeri',\n    'promoted_content': None,\n    'query': '%23PenggadaiNegeri',\n    'tweet_volume': None},\n   {'name': '#BTSPermissionToDanceOnStageLA',\n    'url': 'http://twitter.com/search?q=%23BTSPermissionToDanceOnStageLA',\n    'promoted_content': None,\n    'query': '%23BTSPermissionToDanceOnStageLA',\n    'tweet_volume': 50368},\n   {'name': '#TKOSummit2021',\n    'url': 'http://twitter.com/search?q=%23TKOSummit2021',\n    'promoted_content': None,\n    'query': '%23TKOSummit2021',\n    'tweet_volume': None},\n   {'name': '#10YearsOf5SOS',\n    'url': 'http://twitter.com/search?q=%2310YearsOf5SOS',\n    'promoted_content': None,\n    'query': '%2310YearsOf5SOS',\n    'tweet_volume': 38481},\n   {'name': '#Dreamboat',\n    'url': 'http://twitter.com/search?q=%23Dreamboat',\n    'promoted_content': None,\n    'query': '%23Dreamboat',\n    'tweet_volume': None},\n   {'name': '#justiceforlaura',\n    'url': 'http://twitter.com/search?q=%23justiceforlaura',\n    'promoted_content': None,\n    'query': '%23justiceforlaura',\n    'tweet_volume': None},\n   {'name': '#BRIGHTWINxAAA2021',\n    'url': 'http://twitter.com/search?q=%23BRIGHTWINxAAA2021',\n    'promoted_content': None,\n    'query': '%23BRIGHTWINxAAA2021',\n    'tweet_volume': 122525},\n   {'name': '#SemangatDakwahkanIslam',\n    'url': 'http://twitter.com/search?q=%23SemangatDakwahkanIslam',\n    'promoted_content': None,\n    'query': '%23SemangatDakwahkanIslam',\n    'tweet_volume': None},\n   {'name': '#SyariatIslamYangUtama',\n    'url': 'http://twitter.com/search?q=%23SyariatIslamYangUtama',\n    'promoted_content': None,\n    'query': '%23SyariatIslamYangUtama',\n    'tweet_volume': None},\n   {'name': '#HariAhokNasional',\n    'url': 'http://twitter.com/search?q=%23HariAhokNasional',\n    'promoted_content': None,\n    'query': '%23HariAhokNasional',\n    'tweet_volume': 11606},\n   {'name': '#8yearsWithJeno',\n    'url': 'http://twitter.com/search?q=%238yearsWithJeno',\n    'promoted_content': None,\n    'query': '%238yearsWithJeno',\n    'tweet_volume': 81262},\n   {'name': '#MUFC',\n    'url': 'http://twitter.com/search?q=%23MUFC',\n    'promoted_content': None,\n    'query': '%23MUFC',\n    'tweet_volume': 246802},\n   {'name': '#8YearsWithTaeyong',\n    'url': 'http://twitter.com/search?q=%238YearsWithTaeyong',\n    'promoted_content': None,\n    'query': '%238YearsWithTaeyong',\n    'tweet_volume': 65010}],\n  'as_of': '2021-12-03T05:13:11Z',\n  'created_at': '2021-11-28T04:27:33Z',\n  'locations': [{'name': 'Jakarta', 'woeid': 1047378}]}]"
     },
     "execution_count": 8,
     "metadata": {},
     "output_type": "execute_result"
    }
   ],
   "source": [
    "# JSON to List\n",
    "import json\n",
    "jakarta_trending_list = json.loads(jakarta_trending.text)\n",
    "jakarta_trending_list"
   ],
   "metadata": {
    "collapsed": false,
    "pycharm": {
     "name": "#%%\n"
    }
   }
  },
  {
   "cell_type": "code",
   "execution_count": 9,
   "outputs": [],
   "source": [
    "import numpy as np\n",
    "jak_trend = jakarta_trending_list[0]['trends']"
   ],
   "metadata": {
    "collapsed": false,
    "pycharm": {
     "name": "#%%\n"
    }
   }
  },
  {
   "cell_type": "code",
   "execution_count": 10,
   "outputs": [],
   "source": [
    "import pandas as pd\n",
    "\n",
    "jak_trend_df = pd.DataFrame(jak_trend)"
   ],
   "metadata": {
    "collapsed": false,
    "pycharm": {
     "name": "#%%\n"
    }
   }
  },
  {
   "cell_type": "code",
   "execution_count": 11,
   "outputs": [
    {
     "data": {
      "text/plain": "0                   #LangitSenjaKita\n1                    #JinggaDanSenja\n2              #PTD_ON_STAGE_LA_Day4\n3                       #LAHeartsJin\n4              Jangan Abaikan Prokes\n5          Sosialisasi Edukasi Cyber\n6                         3 Desember\n7                    3rd of December\n8                             GreyAp\n9                         Black Swan\n10       HAPPY 100M SEVENTEEN'S CLAP\n11                         FAKE LOVE\n12                           seokjin\n13                  KAVIN'S BIRTHDAY\n14                           SO WHAT\n15                           Carrick\n16                          Inklusif\n17                           Arsenal\n18               Kuy Berislam Kaffah\n19                           Heather\n20      SEVENTEEN SINGER OF THE YEAR\n21                          bu risma\n22                              Auba\n23                    Worldwide Fans\n24                            De Gea\n25                     Choice Top 10\n26                      #JumatBerkah\n27                     #MoonForJinLA\n28               #PolriTegakkanHukum\n29                           #PSSday\n30              #CLAP100MillionViews\n31                        #SolChicks\n32                    #CLAP100MViews\n33     #haridisabilitasinternasional\n34                       #HBDF4Kavin\n35                  #GanyangSemarang\n36                  #PenggadaiNegeri\n37    #BTSPermissionToDanceOnStageLA\n38                    #TKOSummit2021\n39                    #10YearsOf5SOS\n40                        #Dreamboat\n41                  #justiceforlaura\n42                #BRIGHTWINxAAA2021\n43           #SemangatDakwahkanIslam\n44            #SyariatIslamYangUtama\n45                 #HariAhokNasional\n46                   #8yearsWithJeno\n47                             #MUFC\n48                #8YearsWithTaeyong\nName: name, dtype: object"
     },
     "execution_count": 11,
     "metadata": {},
     "output_type": "execute_result"
    }
   ],
   "source": [
    "jak_trend_df.get('name')"
   ],
   "metadata": {
    "collapsed": false,
    "pycharm": {
     "name": "#%%\n"
    }
   }
  },
  {
   "cell_type": "code",
   "execution_count": 12,
   "outputs": [],
   "source": [
    "# Saving trend list to trend.txt\n",
    "jak_trend_df.to_csv('../dataset/trend.txt')"
   ],
   "metadata": {
    "collapsed": false,
    "pycharm": {
     "name": "#%%\n"
    }
   }
  },
  {
   "cell_type": "code",
   "execution_count": null,
   "outputs": [],
   "source": [],
   "metadata": {
    "collapsed": false,
    "pycharm": {
     "name": "#%%\n"
    }
   }
  }
 ],
 "metadata": {
  "kernelspec": {
   "display_name": "Python 3",
   "language": "python",
   "name": "python3"
  },
  "language_info": {
   "codemirror_mode": {
    "name": "ipython",
    "version": 2
   },
   "file_extension": ".py",
   "mimetype": "text/x-python",
   "name": "python",
   "nbconvert_exporter": "python",
   "pygments_lexer": "ipython2",
   "version": "2.7.6"
  }
 },
 "nbformat": 4,
 "nbformat_minor": 0
}