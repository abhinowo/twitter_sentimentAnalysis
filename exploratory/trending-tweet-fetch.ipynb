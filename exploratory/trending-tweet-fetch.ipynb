{
 "cells": [
  {
   "cell_type": "code",
   "execution_count": 6,
   "metadata": {
    "collapsed": true
   },
   "outputs": [],
   "source": [
    "import twitter"
   ]
  },
  {
   "cell_type": "code",
   "execution_count": 7,
   "outputs": [],
   "source": [
    "with open('../credential/bearer_token.txt') as f:\n",
    "    BEARER_TOKEN = f.read()\n",
    "\n",
    "t_h = twitter.Twitter(auth=twitter.OAuth2(bearer_token=BEARER_TOKEN))"
   ],
   "metadata": {
    "collapsed": false,
    "pycharm": {
     "name": "#%%\n"
    }
   }
  },
  {
   "cell_type": "code",
   "execution_count": 8,
   "outputs": [
    {
     "data": {
      "text/plain": "   Unnamed: 0                       name  \\\n0           0           #LangitSenjaKita   \n1           1            #JinggaDanSenja   \n2           2      #PTD_ON_STAGE_LA_Day4   \n3           3               #LAHeartsJin   \n4           4      Jangan Abaikan Prokes   \n5           5  Sosialisasi Edukasi Cyber   \n6           6                 3 Desember   \n7           7            3rd of December   \n8           8                     GreyAp   \n9           9                 Black Swan   \n\n                                                 url  promoted_content  \\\n0     http://twitter.com/search?q=%23LangitSenjaKita               NaN   \n1      http://twitter.com/search?q=%23JinggaDanSenja               NaN   \n2  http://twitter.com/search?q=%23PTD_ON_STAGE_LA...               NaN   \n3         http://twitter.com/search?q=%23LAHeartsJin               NaN   \n4  http://twitter.com/search?q=%22Jangan+Abaikan+...               NaN   \n5  http://twitter.com/search?q=%22Sosialisasi+Edu...               NaN   \n6       http://twitter.com/search?q=%223+Desember%22               NaN   \n7  http://twitter.com/search?q=%223rd+of+December%22               NaN   \n8                 http://twitter.com/search?q=GreyAp               NaN   \n9       http://twitter.com/search?q=%22Black+Swan%22               NaN   \n\n                             query  tweet_volume  \n0               %23LangitSenjaKita           NaN  \n1                %23JinggaDanSenja           NaN  \n2          %23PTD_ON_STAGE_LA_Day4      158651.0  \n3                   %23LAHeartsJin       51558.0  \n4      %22Jangan+Abaikan+Prokes%22           NaN  \n5  %22Sosialisasi+Edukasi+Cyber%22       10517.0  \n6                 %223+Desember%22       11530.0  \n7            %223rd+of+December%22       37426.0  \n8                           GreyAp           NaN  \n9                 %22Black+Swan%22       85202.0  ",
      "text/html": "<div>\n<style scoped>\n    .dataframe tbody tr th:only-of-type {\n        vertical-align: middle;\n    }\n\n    .dataframe tbody tr th {\n        vertical-align: top;\n    }\n\n    .dataframe thead th {\n        text-align: right;\n    }\n</style>\n<table border=\"1\" class=\"dataframe\">\n  <thead>\n    <tr style=\"text-align: right;\">\n      <th></th>\n      <th>Unnamed: 0</th>\n      <th>name</th>\n      <th>url</th>\n      <th>promoted_content</th>\n      <th>query</th>\n      <th>tweet_volume</th>\n    </tr>\n  </thead>\n  <tbody>\n    <tr>\n      <th>0</th>\n      <td>0</td>\n      <td>#LangitSenjaKita</td>\n      <td>http://twitter.com/search?q=%23LangitSenjaKita</td>\n      <td>NaN</td>\n      <td>%23LangitSenjaKita</td>\n      <td>NaN</td>\n    </tr>\n    <tr>\n      <th>1</th>\n      <td>1</td>\n      <td>#JinggaDanSenja</td>\n      <td>http://twitter.com/search?q=%23JinggaDanSenja</td>\n      <td>NaN</td>\n      <td>%23JinggaDanSenja</td>\n      <td>NaN</td>\n    </tr>\n    <tr>\n      <th>2</th>\n      <td>2</td>\n      <td>#PTD_ON_STAGE_LA_Day4</td>\n      <td>http://twitter.com/search?q=%23PTD_ON_STAGE_LA...</td>\n      <td>NaN</td>\n      <td>%23PTD_ON_STAGE_LA_Day4</td>\n      <td>158651.0</td>\n    </tr>\n    <tr>\n      <th>3</th>\n      <td>3</td>\n      <td>#LAHeartsJin</td>\n      <td>http://twitter.com/search?q=%23LAHeartsJin</td>\n      <td>NaN</td>\n      <td>%23LAHeartsJin</td>\n      <td>51558.0</td>\n    </tr>\n    <tr>\n      <th>4</th>\n      <td>4</td>\n      <td>Jangan Abaikan Prokes</td>\n      <td>http://twitter.com/search?q=%22Jangan+Abaikan+...</td>\n      <td>NaN</td>\n      <td>%22Jangan+Abaikan+Prokes%22</td>\n      <td>NaN</td>\n    </tr>\n    <tr>\n      <th>5</th>\n      <td>5</td>\n      <td>Sosialisasi Edukasi Cyber</td>\n      <td>http://twitter.com/search?q=%22Sosialisasi+Edu...</td>\n      <td>NaN</td>\n      <td>%22Sosialisasi+Edukasi+Cyber%22</td>\n      <td>10517.0</td>\n    </tr>\n    <tr>\n      <th>6</th>\n      <td>6</td>\n      <td>3 Desember</td>\n      <td>http://twitter.com/search?q=%223+Desember%22</td>\n      <td>NaN</td>\n      <td>%223+Desember%22</td>\n      <td>11530.0</td>\n    </tr>\n    <tr>\n      <th>7</th>\n      <td>7</td>\n      <td>3rd of December</td>\n      <td>http://twitter.com/search?q=%223rd+of+December%22</td>\n      <td>NaN</td>\n      <td>%223rd+of+December%22</td>\n      <td>37426.0</td>\n    </tr>\n    <tr>\n      <th>8</th>\n      <td>8</td>\n      <td>GreyAp</td>\n      <td>http://twitter.com/search?q=GreyAp</td>\n      <td>NaN</td>\n      <td>GreyAp</td>\n      <td>NaN</td>\n    </tr>\n    <tr>\n      <th>9</th>\n      <td>9</td>\n      <td>Black Swan</td>\n      <td>http://twitter.com/search?q=%22Black+Swan%22</td>\n      <td>NaN</td>\n      <td>%22Black+Swan%22</td>\n      <td>85202.0</td>\n    </tr>\n  </tbody>\n</table>\n</div>"
     },
     "execution_count": 8,
     "metadata": {},
     "output_type": "execute_result"
    }
   ],
   "source": [
    "import pandas as pd\n",
    "jak_trend = pd.read_csv('../dataset/trend.txt')\n",
    "jak_trend.head(10)"
   ],
   "metadata": {
    "collapsed": false,
    "pycharm": {
     "name": "#%%\n"
    }
   }
  },
  {
   "cell_type": "code",
   "execution_count": 9,
   "outputs": [
    {
     "data": {
      "text/plain": "array(['#LangitSenjaKita', '#JinggaDanSenja', '#PTD_ON_STAGE_LA_Day4',\n       '#LAHeartsJin', 'Jangan Abaikan Prokes',\n       'Sosialisasi Edukasi Cyber', '3 Desember', '3rd of December',\n       'GreyAp', 'Black Swan', \"HAPPY 100M SEVENTEEN'S CLAP\", 'FAKE LOVE',\n       'seokjin', \"KAVIN'S BIRTHDAY\", 'SO WHAT', 'Carrick', 'Inklusif',\n       'Arsenal', 'Kuy Berislam Kaffah', 'Heather',\n       'SEVENTEEN SINGER OF THE YEAR', 'bu risma', 'Auba',\n       'Worldwide Fans', 'De Gea', 'Choice Top 10', '#JumatBerkah',\n       '#MoonForJinLA', '#PolriTegakkanHukum', '#PSSday',\n       '#CLAP100MillionViews', '#SolChicks', '#CLAP100MViews',\n       '#haridisabilitasinternasional', '#HBDF4Kavin', '#GanyangSemarang',\n       '#PenggadaiNegeri', '#BTSPermissionToDanceOnStageLA',\n       '#TKOSummit2021', '#10YearsOf5SOS', '#Dreamboat',\n       '#justiceforlaura', '#BRIGHTWINxAAA2021',\n       '#SemangatDakwahkanIslam', '#SyariatIslamYangUtama',\n       '#HariAhokNasional', '#8yearsWithJeno', '#MUFC',\n       '#8YearsWithTaeyong'], dtype=object)"
     },
     "execution_count": 9,
     "metadata": {},
     "output_type": "execute_result"
    }
   ],
   "source": [
    "jak_trend.get('name').values"
   ],
   "metadata": {
    "collapsed": false,
    "pycharm": {
     "name": "#%%\n"
    }
   }
  },
  {
   "cell_type": "code",
   "execution_count": 11,
   "outputs": [],
   "source": [
    "# checking usual data\n",
    "_query = t_h.search.tweets(q='#LangitSenjaKita', lang='id', count=100, tweet_mode='extended') # if since_id_buff == '' else t_h.search.tweets(q=trend, lang='en', count=100, tweet_mode='extended', max_id=since_id_buff)"
   ],
   "metadata": {
    "collapsed": false,
    "pycharm": {
     "name": "#%%\n"
    }
   }
  },
  {
   "cell_type": "code",
   "execution_count": 25,
   "outputs": [],
   "source": [
    "_tweet_df = pd.DataFrame(_query['statuses'])\n",
    "_tweet_metadata = pd.Series(_query['search_metadata'])"
   ],
   "metadata": {
    "collapsed": false,
    "pycharm": {
     "name": "#%%\n"
    }
   }
  },
  {
   "cell_type": "code",
   "execution_count": 23,
   "outputs": [
    {
     "data": {
      "text/plain": "dict_keys(['statuses', 'search_metadata'])"
     },
     "execution_count": 23,
     "metadata": {},
     "output_type": "execute_result"
    }
   ],
   "source": [
    "_query.keys()"
   ],
   "metadata": {
    "collapsed": false,
    "pycharm": {
     "name": "#%%\n"
    }
   }
  },
  {
   "cell_type": "code",
   "execution_count": 28,
   "outputs": [
    {
     "data": {
      "text/plain": "'?max_id=1466635625742815236&q=%23LangitSenjaKita&lang=id&count=100&include_entities=1'"
     },
     "execution_count": 28,
     "metadata": {},
     "output_type": "execute_result"
    }
   ],
   "source": [
    "_tweet_metadata['next_results']"
   ],
   "metadata": {
    "collapsed": false,
    "pycharm": {
     "name": "#%%\n"
    }
   }
  },
  {
   "cell_type": "code",
   "execution_count": 55,
   "outputs": [
    {
     "name": "stdout",
     "output_type": "stream",
     "text": [
      "Starting Jangan Abaikan Prokes... ................................."
     ]
    },
    {
     "ename": "KeyboardInterrupt",
     "evalue": "",
     "output_type": "error",
     "traceback": [
      "\u001B[1;31m---------------------------------------------------------------------------\u001B[0m",
      "\u001B[1;31mKeyboardInterrupt\u001B[0m                         Traceback (most recent call last)",
      "\u001B[1;32m~\\AppData\\Local\\Temp/ipykernel_10036/92139862.py\u001B[0m in \u001B[0;36m<module>\u001B[1;34m\u001B[0m\n\u001B[0;32m     10\u001B[0m \u001B[1;31m# Loop. Expect the amount of tweets fetched to exceed the value of max_tweets a bit. Each of the following tweets will be unique.\u001B[0m\u001B[1;33m\u001B[0m\u001B[1;33m\u001B[0m\u001B[1;33m\u001B[0m\u001B[0m\n\u001B[0;32m     11\u001B[0m \u001B[1;32mwhile\u001B[0m \u001B[0mlen\u001B[0m\u001B[1;33m(\u001B[0m\u001B[0mtweet_df\u001B[0m\u001B[1;33m)\u001B[0m \u001B[1;33m<\u001B[0m \u001B[0mmax_tweets\u001B[0m\u001B[1;33m:\u001B[0m\u001B[1;33m\u001B[0m\u001B[1;33m\u001B[0m\u001B[0m\n\u001B[1;32m---> 12\u001B[1;33m     \u001B[0mprint\u001B[0m\u001B[1;33m(\u001B[0m\u001B[1;34m'.'\u001B[0m\u001B[1;33m,\u001B[0m \u001B[0mend\u001B[0m\u001B[1;33m=\u001B[0m\u001B[1;34m''\u001B[0m\u001B[1;33m)\u001B[0m\u001B[1;33m\u001B[0m\u001B[1;33m\u001B[0m\u001B[0m\n\u001B[0m\u001B[0;32m     13\u001B[0m     \u001B[0mquery\u001B[0m \u001B[1;33m=\u001B[0m \u001B[0mt_h\u001B[0m\u001B[1;33m.\u001B[0m\u001B[0msearch\u001B[0m\u001B[1;33m.\u001B[0m\u001B[0mtweets\u001B[0m\u001B[1;33m(\u001B[0m\u001B[0mq\u001B[0m\u001B[1;33m=\u001B[0m\u001B[1;34m'Jangan Abaikan Prokes'\u001B[0m\u001B[1;33m,\u001B[0m \u001B[0mlang\u001B[0m\u001B[1;33m=\u001B[0m\u001B[1;34m'id'\u001B[0m\u001B[1;33m,\u001B[0m \u001B[0mcount\u001B[0m\u001B[1;33m=\u001B[0m\u001B[1;36m100\u001B[0m\u001B[1;33m,\u001B[0m \u001B[0mtweet_mode\u001B[0m\u001B[1;33m=\u001B[0m\u001B[1;34m'extended'\u001B[0m\u001B[1;33m)\u001B[0m \u001B[1;32mif\u001B[0m \u001B[0msince_id_buff\u001B[0m \u001B[1;33m==\u001B[0m \u001B[1;34m''\u001B[0m \u001B[1;32melse\u001B[0m \u001B[0mt_h\u001B[0m\u001B[1;33m.\u001B[0m\u001B[0msearch\u001B[0m\u001B[1;33m.\u001B[0m\u001B[0mtweets\u001B[0m\u001B[1;33m(\u001B[0m\u001B[0mq\u001B[0m\u001B[1;33m=\u001B[0m\u001B[1;34m'Jangan Abaikan Prokes'\u001B[0m\u001B[1;33m,\u001B[0m \u001B[0mlang\u001B[0m\u001B[1;33m=\u001B[0m\u001B[1;34m'id'\u001B[0m\u001B[1;33m,\u001B[0m \u001B[0mcount\u001B[0m\u001B[1;33m=\u001B[0m\u001B[1;36m100\u001B[0m\u001B[1;33m,\u001B[0m \u001B[0mtweet_mode\u001B[0m\u001B[1;33m=\u001B[0m\u001B[1;34m'extended'\u001B[0m\u001B[1;33m,\u001B[0m \u001B[0mmax_id\u001B[0m\u001B[1;33m=\u001B[0m\u001B[0msince_id_buff\u001B[0m\u001B[1;33m)\u001B[0m\u001B[1;33m\u001B[0m\u001B[1;33m\u001B[0m\u001B[0m\n\u001B[0;32m     14\u001B[0m     \u001B[0msince_id_buff\u001B[0m \u001B[1;33m=\u001B[0m \u001B[0mre\u001B[0m\u001B[1;33m.\u001B[0m\u001B[0msearch\u001B[0m\u001B[1;33m(\u001B[0m\u001B[1;34mr'max_id=(.+)&q'\u001B[0m\u001B[1;33m,\u001B[0m \u001B[0mquery\u001B[0m\u001B[1;33m[\u001B[0m\u001B[1;34m'search_metadata'\u001B[0m\u001B[1;33m]\u001B[0m\u001B[1;33m[\u001B[0m\u001B[1;34m'next_results'\u001B[0m\u001B[1;33m]\u001B[0m\u001B[1;33m)\u001B[0m\u001B[1;33m.\u001B[0m\u001B[0mgroup\u001B[0m\u001B[1;33m(\u001B[0m\u001B[1;36m1\u001B[0m\u001B[1;33m)\u001B[0m\u001B[1;33m\u001B[0m\u001B[1;33m\u001B[0m\u001B[0m\n",
      "\u001B[1;32m~\\miniconda3\\lib\\site-packages\\ipykernel\\iostream.py\u001B[0m in \u001B[0;36mwrite\u001B[1;34m(self, string)\u001B[0m\n\u001B[0;32m    527\u001B[0m             \u001B[0mis_child\u001B[0m \u001B[1;33m=\u001B[0m \u001B[1;33m(\u001B[0m\u001B[1;32mnot\u001B[0m \u001B[0mself\u001B[0m\u001B[1;33m.\u001B[0m\u001B[0m_is_master_process\u001B[0m\u001B[1;33m(\u001B[0m\u001B[1;33m)\u001B[0m\u001B[1;33m)\u001B[0m\u001B[1;33m\u001B[0m\u001B[1;33m\u001B[0m\u001B[0m\n\u001B[0;32m    528\u001B[0m             \u001B[1;31m# only touch the buffer in the IO thread to avoid races\u001B[0m\u001B[1;33m\u001B[0m\u001B[1;33m\u001B[0m\u001B[1;33m\u001B[0m\u001B[0m\n\u001B[1;32m--> 529\u001B[1;33m             \u001B[0mself\u001B[0m\u001B[1;33m.\u001B[0m\u001B[0mpub_thread\u001B[0m\u001B[1;33m.\u001B[0m\u001B[0mschedule\u001B[0m\u001B[1;33m(\u001B[0m\u001B[1;32mlambda\u001B[0m\u001B[1;33m:\u001B[0m \u001B[0mself\u001B[0m\u001B[1;33m.\u001B[0m\u001B[0m_buffer\u001B[0m\u001B[1;33m.\u001B[0m\u001B[0mwrite\u001B[0m\u001B[1;33m(\u001B[0m\u001B[0mstring\u001B[0m\u001B[1;33m)\u001B[0m\u001B[1;33m)\u001B[0m\u001B[1;33m\u001B[0m\u001B[1;33m\u001B[0m\u001B[0m\n\u001B[0m\u001B[0;32m    530\u001B[0m             \u001B[1;32mif\u001B[0m \u001B[0mis_child\u001B[0m\u001B[1;33m:\u001B[0m\u001B[1;33m\u001B[0m\u001B[1;33m\u001B[0m\u001B[0m\n\u001B[0;32m    531\u001B[0m                 \u001B[1;31m# mp.Pool cannot be trusted to flush promptly (or ever),\u001B[0m\u001B[1;33m\u001B[0m\u001B[1;33m\u001B[0m\u001B[1;33m\u001B[0m\u001B[0m\n",
      "\u001B[1;32m~\\miniconda3\\lib\\site-packages\\ipykernel\\iostream.py\u001B[0m in \u001B[0;36mschedule\u001B[1;34m(self, f)\u001B[0m\n\u001B[0;32m    212\u001B[0m             \u001B[0mself\u001B[0m\u001B[1;33m.\u001B[0m\u001B[0m_events\u001B[0m\u001B[1;33m.\u001B[0m\u001B[0mappend\u001B[0m\u001B[1;33m(\u001B[0m\u001B[0mf\u001B[0m\u001B[1;33m)\u001B[0m\u001B[1;33m\u001B[0m\u001B[1;33m\u001B[0m\u001B[0m\n\u001B[0;32m    213\u001B[0m             \u001B[1;31m# wake event thread (message content is ignored)\u001B[0m\u001B[1;33m\u001B[0m\u001B[1;33m\u001B[0m\u001B[1;33m\u001B[0m\u001B[0m\n\u001B[1;32m--> 214\u001B[1;33m             \u001B[0mself\u001B[0m\u001B[1;33m.\u001B[0m\u001B[0m_event_pipe\u001B[0m\u001B[1;33m.\u001B[0m\u001B[0msend\u001B[0m\u001B[1;33m(\u001B[0m\u001B[1;34mb''\u001B[0m\u001B[1;33m)\u001B[0m\u001B[1;33m\u001B[0m\u001B[1;33m\u001B[0m\u001B[0m\n\u001B[0m\u001B[0;32m    215\u001B[0m         \u001B[1;32melse\u001B[0m\u001B[1;33m:\u001B[0m\u001B[1;33m\u001B[0m\u001B[1;33m\u001B[0m\u001B[0m\n\u001B[0;32m    216\u001B[0m             \u001B[0mf\u001B[0m\u001B[1;33m(\u001B[0m\u001B[1;33m)\u001B[0m\u001B[1;33m\u001B[0m\u001B[1;33m\u001B[0m\u001B[0m\n",
      "\u001B[1;32m~\\miniconda3\\lib\\site-packages\\zmq\\sugar\\socket.py\u001B[0m in \u001B[0;36msend\u001B[1;34m(self, data, flags, copy, track, routing_id, group)\u001B[0m\n\u001B[0;32m    545\u001B[0m                 )\n\u001B[0;32m    546\u001B[0m             \u001B[0mdata\u001B[0m\u001B[1;33m.\u001B[0m\u001B[0mgroup\u001B[0m \u001B[1;33m=\u001B[0m \u001B[0mgroup\u001B[0m\u001B[1;33m\u001B[0m\u001B[1;33m\u001B[0m\u001B[0m\n\u001B[1;32m--> 547\u001B[1;33m         \u001B[1;32mreturn\u001B[0m \u001B[0msuper\u001B[0m\u001B[1;33m(\u001B[0m\u001B[0mSocket\u001B[0m\u001B[1;33m,\u001B[0m \u001B[0mself\u001B[0m\u001B[1;33m)\u001B[0m\u001B[1;33m.\u001B[0m\u001B[0msend\u001B[0m\u001B[1;33m(\u001B[0m\u001B[0mdata\u001B[0m\u001B[1;33m,\u001B[0m \u001B[0mflags\u001B[0m\u001B[1;33m=\u001B[0m\u001B[0mflags\u001B[0m\u001B[1;33m,\u001B[0m \u001B[0mcopy\u001B[0m\u001B[1;33m=\u001B[0m\u001B[0mcopy\u001B[0m\u001B[1;33m,\u001B[0m \u001B[0mtrack\u001B[0m\u001B[1;33m=\u001B[0m\u001B[0mtrack\u001B[0m\u001B[1;33m)\u001B[0m\u001B[1;33m\u001B[0m\u001B[1;33m\u001B[0m\u001B[0m\n\u001B[0m\u001B[0;32m    548\u001B[0m \u001B[1;33m\u001B[0m\u001B[0m\n\u001B[0;32m    549\u001B[0m     \u001B[1;32mdef\u001B[0m \u001B[0msend_multipart\u001B[0m\u001B[1;33m(\u001B[0m\u001B[0mself\u001B[0m\u001B[1;33m,\u001B[0m \u001B[0mmsg_parts\u001B[0m\u001B[1;33m,\u001B[0m \u001B[0mflags\u001B[0m\u001B[1;33m=\u001B[0m\u001B[1;36m0\u001B[0m\u001B[1;33m,\u001B[0m \u001B[0mcopy\u001B[0m\u001B[1;33m=\u001B[0m\u001B[1;32mTrue\u001B[0m\u001B[1;33m,\u001B[0m \u001B[0mtrack\u001B[0m\u001B[1;33m=\u001B[0m\u001B[1;32mFalse\u001B[0m\u001B[1;33m,\u001B[0m \u001B[1;33m**\u001B[0m\u001B[0mkwargs\u001B[0m\u001B[1;33m)\u001B[0m\u001B[1;33m:\u001B[0m\u001B[1;33m\u001B[0m\u001B[1;33m\u001B[0m\u001B[0m\n",
      "\u001B[1;32mzmq/backend/cython/socket.pyx\u001B[0m in \u001B[0;36mzmq.backend.cython.socket.Socket.send\u001B[1;34m()\u001B[0m\n",
      "\u001B[1;32mzmq/backend/cython/socket.pyx\u001B[0m in \u001B[0;36mzmq.backend.cython.socket.Socket.send\u001B[1;34m()\u001B[0m\n",
      "\u001B[1;32mzmq/backend/cython/socket.pyx\u001B[0m in \u001B[0;36mzmq.backend.cython.socket._send_copy\u001B[1;34m()\u001B[0m\n",
      "\u001B[1;32m~\\miniconda3\\lib\\site-packages\\zmq\\backend\\cython\\checkrc.pxd\u001B[0m in \u001B[0;36mzmq.backend.cython.checkrc._check_rc\u001B[1;34m()\u001B[0m\n",
      "\u001B[1;31mKeyboardInterrupt\u001B[0m: "
     ]
    }
   ],
   "source": [
    "# nyoba -\n",
    "import re\n",
    "import numpy as np\n",
    "\n",
    "print('Starting', 'Jangan Abaikan Prokes', end='... ')\n",
    "tweet_df = pd.DataFrame()\n",
    "max_tweets = 300\n",
    "since_id_buff = ''\n",
    "\n",
    "# Loop. Expect the amount of tweets fetched to exceed the value of max_tweets a bit. Each of the following tweets will be unique.\n",
    "while len(tweet_df) < max_tweets:\n",
    "    print('.', end='')\n",
    "    query = t_h.search.tweets(q='Jangan Abaikan Prokes', lang='id', count=100, tweet_mode='extended') if since_id_buff == '' else t_h.search.tweets(q='Jangan Abaikan Prokes', lang='id', count=100, tweet_mode='extended', max_id=since_id_buff)\n",
    "    since_id_buff = re.search(r'max_id=(.+)&q', query['search_metadata']['next_results']).group(1)\n",
    "    query = pd.DataFrame(query['statuses'])\n",
    "\n",
    "    # Get full text, put it in a new header\n",
    "    query_rt = []\n",
    "    if 'retweeted_status' in query.columns:\n",
    "        for i in query['retweeted_status']:\n",
    "            try:\n",
    "                query_rt.append(i['full_text'])\n",
    "            except:\n",
    "                query_rt.append(np.nan)\n",
    "    else:\n",
    "        query_rt = [np.nan] * len(query)\n",
    "        # print(query_rt)\n",
    "    query_text = []\n",
    "    for i in range(len(query_rt)):\n",
    "        # print(i, end='\\r')\n",
    "        query_text.append(query_rt[i] if not pd.isnull(query_rt[i]) else query['full_text'].loc[i])\n",
    "\n",
    "    query['inferred_text'] = query_text"
   ],
   "metadata": {
    "collapsed": false,
    "pycharm": {
     "name": "#%%\n"
    }
   }
  },
  {
   "cell_type": "code",
   "execution_count": 58,
   "outputs": [
    {
     "name": "stdout",
     "output_type": "stream",
     "text": [
      "Starting #LangitSenjaKita... .....Done!\n",
      "Starting #JinggaDanSenja... .....Done!\n",
      "Starting #PTD_ON_STAGE_LA_Day4... ..........Done!\n",
      "Starting #LAHeartsJin... ...................Done!\n",
      "Starting Jangan Abaikan Prokes... ....Done!\n",
      "Starting Sosialisasi Edukasi Cyber... ....Done!\n",
      "Starting 3 Desember... ......Done!\n",
      "Starting 3rd of December... ....Done!\n",
      "Starting GreyAp... .............Done!\n",
      "Starting Black Swan... ..........Done!\n",
      "Starting HAPPY 100M SEVENTEEN'S CLAP... ...Done!\n",
      "Starting FAKE LOVE... .....Done!\n",
      "Starting seokjin... ........Done!\n",
      "Starting KAVIN'S BIRTHDAY... .........................Done!\n",
      "Starting SO WHAT... .....Done!\n",
      "Starting Carrick... .........Done!\n",
      "Starting Inklusif... ..........Done!\n",
      "Starting Arsenal... ..........Done!\n",
      "Starting Kuy Berislam Kaffah... .....Done!\n",
      "Starting Heather... ....Done!\n",
      "Starting SEVENTEEN SINGER OF THE YEAR... ............Done!\n",
      "Starting bu risma... ............Done!\n",
      "Starting Auba... ....Done!\n",
      "Starting Worldwide Fans... .................Done!\n",
      "Starting De Gea... ......Done!\n",
      "Starting Choice Top 10... .............Done!\n",
      "Starting #JumatBerkah... ..............Done!\n",
      "Starting #MoonForJinLA... ........................Done!\n",
      "Starting #PolriTegakkanHukum... .....Done!\n",
      "Starting #PSSday... .....Done!\n",
      "Starting #CLAP100MillionViews... ....Done!\n",
      "Starting #SolChicks... ..Done!\n",
      "Starting #CLAP100MViews... ....Done!\n",
      "Starting #haridisabilitasinternasional... ....Done!\n",
      "Starting #HBDF4Kavin... ...........................Done!\n",
      "Starting #GanyangSemarang... ......Done!\n",
      "Starting #PenggadaiNegeri... .......Done!\n",
      "Starting #BTSPermissionToDanceOnStageLA... ..........Done!\n",
      "Starting #TKOSummit2021... .....Done!\n",
      "Starting #10YearsOf5SOS... ....Done!\n",
      "Starting #Dreamboat... ....Done!\n",
      "Starting #justiceforlaura... ........Done!\n",
      "Starting #BRIGHTWINxAAA2021... ..............Done!\n",
      "Starting #SemangatDakwahkanIslam... .....Done!\n",
      "Starting #SyariatIslamYangUtama... ....Done!\n",
      "Starting #HariAhokNasional... .......Done!\n",
      "Starting #8yearsWithJeno... .............................Done!\n",
      "Starting #MUFC... ..........................Done!\n",
      "Starting #8YearsWithTaeyong... ....."
     ]
    },
    {
     "ename": "TwitterHTTPError",
     "evalue": "Twitter sent status 429 for URL: 1.1/search/tweets.json using parameters: (q=%238YearsWithTaeyong&lang=id&count=100&tweet_mode=extended&max_id=1466618896090206213)\ndetails: {'errors': [{'message': 'Rate limit exceeded', 'code': 88}]}",
     "output_type": "error",
     "traceback": [
      "\u001B[1;31m---------------------------------------------------------------------------\u001B[0m",
      "\u001B[1;31mHTTPError\u001B[0m                                 Traceback (most recent call last)",
      "\u001B[1;32m~\\miniconda3\\lib\\site-packages\\twitter\\api.py\u001B[0m in \u001B[0;36m_handle_response\u001B[1;34m(self, req, uri, arg_data, _timeout)\u001B[0m\n\u001B[0;32m    374\u001B[0m             \u001B[0mkwargs\u001B[0m\u001B[1;33m[\u001B[0m\u001B[1;34m'context'\u001B[0m\u001B[1;33m]\u001B[0m \u001B[1;33m=\u001B[0m \u001B[0mcontext\u001B[0m\u001B[1;33m\u001B[0m\u001B[1;33m\u001B[0m\u001B[0m\n\u001B[1;32m--> 375\u001B[1;33m             \u001B[0mhandle\u001B[0m \u001B[1;33m=\u001B[0m \u001B[0murllib_request\u001B[0m\u001B[1;33m.\u001B[0m\u001B[0murlopen\u001B[0m\u001B[1;33m(\u001B[0m\u001B[0mreq\u001B[0m\u001B[1;33m,\u001B[0m \u001B[1;33m**\u001B[0m\u001B[0mkwargs\u001B[0m\u001B[1;33m)\u001B[0m\u001B[1;33m\u001B[0m\u001B[1;33m\u001B[0m\u001B[0m\n\u001B[0m\u001B[0;32m    376\u001B[0m             \u001B[1;32mif\u001B[0m \u001B[0mhandle\u001B[0m\u001B[1;33m.\u001B[0m\u001B[0mheaders\u001B[0m\u001B[1;33m[\u001B[0m\u001B[1;34m'Content-Type'\u001B[0m\u001B[1;33m]\u001B[0m \u001B[1;32min\u001B[0m \u001B[1;33m[\u001B[0m\u001B[1;34m'image/jpeg'\u001B[0m\u001B[1;33m,\u001B[0m \u001B[1;34m'image/png'\u001B[0m\u001B[1;33m]\u001B[0m\u001B[1;33m:\u001B[0m\u001B[1;33m\u001B[0m\u001B[1;33m\u001B[0m\u001B[0m\n",
      "\u001B[1;32m~\\miniconda3\\lib\\urllib\\request.py\u001B[0m in \u001B[0;36murlopen\u001B[1;34m(url, data, timeout, cafile, capath, cadefault, context)\u001B[0m\n\u001B[0;32m    221\u001B[0m         \u001B[0mopener\u001B[0m \u001B[1;33m=\u001B[0m \u001B[0m_opener\u001B[0m\u001B[1;33m\u001B[0m\u001B[1;33m\u001B[0m\u001B[0m\n\u001B[1;32m--> 222\u001B[1;33m     \u001B[1;32mreturn\u001B[0m \u001B[0mopener\u001B[0m\u001B[1;33m.\u001B[0m\u001B[0mopen\u001B[0m\u001B[1;33m(\u001B[0m\u001B[0murl\u001B[0m\u001B[1;33m,\u001B[0m \u001B[0mdata\u001B[0m\u001B[1;33m,\u001B[0m \u001B[0mtimeout\u001B[0m\u001B[1;33m)\u001B[0m\u001B[1;33m\u001B[0m\u001B[1;33m\u001B[0m\u001B[0m\n\u001B[0m\u001B[0;32m    223\u001B[0m \u001B[1;33m\u001B[0m\u001B[0m\n",
      "\u001B[1;32m~\\miniconda3\\lib\\urllib\\request.py\u001B[0m in \u001B[0;36mopen\u001B[1;34m(self, fullurl, data, timeout)\u001B[0m\n\u001B[0;32m    530\u001B[0m             \u001B[0mmeth\u001B[0m \u001B[1;33m=\u001B[0m \u001B[0mgetattr\u001B[0m\u001B[1;33m(\u001B[0m\u001B[0mprocessor\u001B[0m\u001B[1;33m,\u001B[0m \u001B[0mmeth_name\u001B[0m\u001B[1;33m)\u001B[0m\u001B[1;33m\u001B[0m\u001B[1;33m\u001B[0m\u001B[0m\n\u001B[1;32m--> 531\u001B[1;33m             \u001B[0mresponse\u001B[0m \u001B[1;33m=\u001B[0m \u001B[0mmeth\u001B[0m\u001B[1;33m(\u001B[0m\u001B[0mreq\u001B[0m\u001B[1;33m,\u001B[0m \u001B[0mresponse\u001B[0m\u001B[1;33m)\u001B[0m\u001B[1;33m\u001B[0m\u001B[1;33m\u001B[0m\u001B[0m\n\u001B[0m\u001B[0;32m    532\u001B[0m \u001B[1;33m\u001B[0m\u001B[0m\n",
      "\u001B[1;32m~\\miniconda3\\lib\\urllib\\request.py\u001B[0m in \u001B[0;36mhttp_response\u001B[1;34m(self, request, response)\u001B[0m\n\u001B[0;32m    639\u001B[0m         \u001B[1;32mif\u001B[0m \u001B[1;32mnot\u001B[0m \u001B[1;33m(\u001B[0m\u001B[1;36m200\u001B[0m \u001B[1;33m<=\u001B[0m \u001B[0mcode\u001B[0m \u001B[1;33m<\u001B[0m \u001B[1;36m300\u001B[0m\u001B[1;33m)\u001B[0m\u001B[1;33m:\u001B[0m\u001B[1;33m\u001B[0m\u001B[1;33m\u001B[0m\u001B[0m\n\u001B[1;32m--> 640\u001B[1;33m             response = self.parent.error(\n\u001B[0m\u001B[0;32m    641\u001B[0m                 'http', request, response, code, msg, hdrs)\n",
      "\u001B[1;32m~\\miniconda3\\lib\\urllib\\request.py\u001B[0m in \u001B[0;36merror\u001B[1;34m(self, proto, *args)\u001B[0m\n\u001B[0;32m    568\u001B[0m             \u001B[0margs\u001B[0m \u001B[1;33m=\u001B[0m \u001B[1;33m(\u001B[0m\u001B[0mdict\u001B[0m\u001B[1;33m,\u001B[0m \u001B[1;34m'default'\u001B[0m\u001B[1;33m,\u001B[0m \u001B[1;34m'http_error_default'\u001B[0m\u001B[1;33m)\u001B[0m \u001B[1;33m+\u001B[0m \u001B[0morig_args\u001B[0m\u001B[1;33m\u001B[0m\u001B[1;33m\u001B[0m\u001B[0m\n\u001B[1;32m--> 569\u001B[1;33m             \u001B[1;32mreturn\u001B[0m \u001B[0mself\u001B[0m\u001B[1;33m.\u001B[0m\u001B[0m_call_chain\u001B[0m\u001B[1;33m(\u001B[0m\u001B[1;33m*\u001B[0m\u001B[0margs\u001B[0m\u001B[1;33m)\u001B[0m\u001B[1;33m\u001B[0m\u001B[1;33m\u001B[0m\u001B[0m\n\u001B[0m\u001B[0;32m    570\u001B[0m \u001B[1;33m\u001B[0m\u001B[0m\n",
      "\u001B[1;32m~\\miniconda3\\lib\\urllib\\request.py\u001B[0m in \u001B[0;36m_call_chain\u001B[1;34m(self, chain, kind, meth_name, *args)\u001B[0m\n\u001B[0;32m    501\u001B[0m             \u001B[0mfunc\u001B[0m \u001B[1;33m=\u001B[0m \u001B[0mgetattr\u001B[0m\u001B[1;33m(\u001B[0m\u001B[0mhandler\u001B[0m\u001B[1;33m,\u001B[0m \u001B[0mmeth_name\u001B[0m\u001B[1;33m)\u001B[0m\u001B[1;33m\u001B[0m\u001B[1;33m\u001B[0m\u001B[0m\n\u001B[1;32m--> 502\u001B[1;33m             \u001B[0mresult\u001B[0m \u001B[1;33m=\u001B[0m \u001B[0mfunc\u001B[0m\u001B[1;33m(\u001B[0m\u001B[1;33m*\u001B[0m\u001B[0margs\u001B[0m\u001B[1;33m)\u001B[0m\u001B[1;33m\u001B[0m\u001B[1;33m\u001B[0m\u001B[0m\n\u001B[0m\u001B[0;32m    503\u001B[0m             \u001B[1;32mif\u001B[0m \u001B[0mresult\u001B[0m \u001B[1;32mis\u001B[0m \u001B[1;32mnot\u001B[0m \u001B[1;32mNone\u001B[0m\u001B[1;33m:\u001B[0m\u001B[1;33m\u001B[0m\u001B[1;33m\u001B[0m\u001B[0m\n",
      "\u001B[1;32m~\\miniconda3\\lib\\urllib\\request.py\u001B[0m in \u001B[0;36mhttp_error_default\u001B[1;34m(self, req, fp, code, msg, hdrs)\u001B[0m\n\u001B[0;32m    648\u001B[0m     \u001B[1;32mdef\u001B[0m \u001B[0mhttp_error_default\u001B[0m\u001B[1;33m(\u001B[0m\u001B[0mself\u001B[0m\u001B[1;33m,\u001B[0m \u001B[0mreq\u001B[0m\u001B[1;33m,\u001B[0m \u001B[0mfp\u001B[0m\u001B[1;33m,\u001B[0m \u001B[0mcode\u001B[0m\u001B[1;33m,\u001B[0m \u001B[0mmsg\u001B[0m\u001B[1;33m,\u001B[0m \u001B[0mhdrs\u001B[0m\u001B[1;33m)\u001B[0m\u001B[1;33m:\u001B[0m\u001B[1;33m\u001B[0m\u001B[1;33m\u001B[0m\u001B[0m\n\u001B[1;32m--> 649\u001B[1;33m         \u001B[1;32mraise\u001B[0m \u001B[0mHTTPError\u001B[0m\u001B[1;33m(\u001B[0m\u001B[0mreq\u001B[0m\u001B[1;33m.\u001B[0m\u001B[0mfull_url\u001B[0m\u001B[1;33m,\u001B[0m \u001B[0mcode\u001B[0m\u001B[1;33m,\u001B[0m \u001B[0mmsg\u001B[0m\u001B[1;33m,\u001B[0m \u001B[0mhdrs\u001B[0m\u001B[1;33m,\u001B[0m \u001B[0mfp\u001B[0m\u001B[1;33m)\u001B[0m\u001B[1;33m\u001B[0m\u001B[1;33m\u001B[0m\u001B[0m\n\u001B[0m\u001B[0;32m    650\u001B[0m \u001B[1;33m\u001B[0m\u001B[0m\n",
      "\u001B[1;31mHTTPError\u001B[0m: HTTP Error 429: Too Many Requests",
      "\nDuring handling of the above exception, another exception occurred:\n",
      "\u001B[1;31mTwitterHTTPError\u001B[0m                          Traceback (most recent call last)",
      "\u001B[1;32m~\\AppData\\Local\\Temp/ipykernel_10036/1566508629.py\u001B[0m in \u001B[0;36m<module>\u001B[1;34m\u001B[0m\n\u001B[0;32m     12\u001B[0m     \u001B[1;32mwhile\u001B[0m \u001B[0mlen\u001B[0m\u001B[1;33m(\u001B[0m\u001B[0mtweet_df\u001B[0m\u001B[1;33m)\u001B[0m \u001B[1;33m<\u001B[0m \u001B[0mmax_tweets\u001B[0m \u001B[1;32mand\u001B[0m \u001B[1;32mnot\u001B[0m \u001B[0mis_full\u001B[0m\u001B[1;33m:\u001B[0m\u001B[1;33m\u001B[0m\u001B[1;33m\u001B[0m\u001B[0m\n\u001B[0;32m     13\u001B[0m         \u001B[0mprint\u001B[0m\u001B[1;33m(\u001B[0m\u001B[1;34m'.'\u001B[0m\u001B[1;33m,\u001B[0m \u001B[0mend\u001B[0m\u001B[1;33m=\u001B[0m\u001B[1;34m''\u001B[0m\u001B[1;33m)\u001B[0m\u001B[1;33m\u001B[0m\u001B[1;33m\u001B[0m\u001B[0m\n\u001B[1;32m---> 14\u001B[1;33m         \u001B[0mquery\u001B[0m \u001B[1;33m=\u001B[0m \u001B[0mt_h\u001B[0m\u001B[1;33m.\u001B[0m\u001B[0msearch\u001B[0m\u001B[1;33m.\u001B[0m\u001B[0mtweets\u001B[0m\u001B[1;33m(\u001B[0m\u001B[0mq\u001B[0m\u001B[1;33m=\u001B[0m\u001B[0mtrend\u001B[0m\u001B[1;33m,\u001B[0m \u001B[0mlang\u001B[0m\u001B[1;33m=\u001B[0m\u001B[1;34m'id'\u001B[0m\u001B[1;33m,\u001B[0m \u001B[0mcount\u001B[0m\u001B[1;33m=\u001B[0m\u001B[1;36m100\u001B[0m\u001B[1;33m,\u001B[0m \u001B[0mtweet_mode\u001B[0m\u001B[1;33m=\u001B[0m\u001B[1;34m'extended'\u001B[0m\u001B[1;33m)\u001B[0m \u001B[1;32mif\u001B[0m \u001B[0msince_id_buff\u001B[0m \u001B[1;33m==\u001B[0m \u001B[1;34m''\u001B[0m \u001B[1;32melse\u001B[0m \u001B[0mt_h\u001B[0m\u001B[1;33m.\u001B[0m\u001B[0msearch\u001B[0m\u001B[1;33m.\u001B[0m\u001B[0mtweets\u001B[0m\u001B[1;33m(\u001B[0m\u001B[0mq\u001B[0m\u001B[1;33m=\u001B[0m\u001B[0mtrend\u001B[0m\u001B[1;33m,\u001B[0m \u001B[0mlang\u001B[0m\u001B[1;33m=\u001B[0m\u001B[1;34m'id'\u001B[0m\u001B[1;33m,\u001B[0m \u001B[0mcount\u001B[0m\u001B[1;33m=\u001B[0m\u001B[1;36m100\u001B[0m\u001B[1;33m,\u001B[0m \u001B[0mtweet_mode\u001B[0m\u001B[1;33m=\u001B[0m\u001B[1;34m'extended'\u001B[0m\u001B[1;33m,\u001B[0m \u001B[0mmax_id\u001B[0m\u001B[1;33m=\u001B[0m\u001B[0msince_id_buff\u001B[0m\u001B[1;33m)\u001B[0m\u001B[1;33m\u001B[0m\u001B[1;33m\u001B[0m\u001B[0m\n\u001B[0m\u001B[0;32m     15\u001B[0m         \u001B[1;32mif\u001B[0m \u001B[1;34m\"next_results\"\u001B[0m \u001B[1;32min\u001B[0m \u001B[0mquery\u001B[0m\u001B[1;33m[\u001B[0m\u001B[1;34m'search_metadata'\u001B[0m\u001B[1;33m]\u001B[0m\u001B[1;33m:\u001B[0m\u001B[1;33m\u001B[0m\u001B[1;33m\u001B[0m\u001B[0m\n\u001B[0;32m     16\u001B[0m             \u001B[0msince_id_buff\u001B[0m \u001B[1;33m=\u001B[0m \u001B[0mre\u001B[0m\u001B[1;33m.\u001B[0m\u001B[0msearch\u001B[0m\u001B[1;33m(\u001B[0m\u001B[1;34mr'max_id=(.+)&q'\u001B[0m\u001B[1;33m,\u001B[0m \u001B[0mquery\u001B[0m\u001B[1;33m[\u001B[0m\u001B[1;34m'search_metadata'\u001B[0m\u001B[1;33m]\u001B[0m\u001B[1;33m[\u001B[0m\u001B[1;34m'next_results'\u001B[0m\u001B[1;33m]\u001B[0m\u001B[1;33m)\u001B[0m\u001B[1;33m.\u001B[0m\u001B[0mgroup\u001B[0m\u001B[1;33m(\u001B[0m\u001B[1;36m1\u001B[0m\u001B[1;33m)\u001B[0m\u001B[1;33m\u001B[0m\u001B[1;33m\u001B[0m\u001B[0m\n",
      "\u001B[1;32m~\\miniconda3\\lib\\site-packages\\twitter\\api.py\u001B[0m in \u001B[0;36m__call__\u001B[1;34m(self, **kwargs)\u001B[0m\n\u001B[0;32m    362\u001B[0m             \u001B[1;32mreturn\u001B[0m \u001B[0mself\u001B[0m\u001B[1;33m.\u001B[0m\u001B[0m_handle_response_with_retry\u001B[0m\u001B[1;33m(\u001B[0m\u001B[0mreq\u001B[0m\u001B[1;33m,\u001B[0m \u001B[0muri\u001B[0m\u001B[1;33m,\u001B[0m \u001B[0marg_data\u001B[0m\u001B[1;33m,\u001B[0m \u001B[0m_timeout\u001B[0m\u001B[1;33m)\u001B[0m\u001B[1;33m\u001B[0m\u001B[1;33m\u001B[0m\u001B[0m\n\u001B[0;32m    363\u001B[0m         \u001B[1;32melse\u001B[0m\u001B[1;33m:\u001B[0m\u001B[1;33m\u001B[0m\u001B[1;33m\u001B[0m\u001B[0m\n\u001B[1;32m--> 364\u001B[1;33m             \u001B[1;32mreturn\u001B[0m \u001B[0mself\u001B[0m\u001B[1;33m.\u001B[0m\u001B[0m_handle_response\u001B[0m\u001B[1;33m(\u001B[0m\u001B[0mreq\u001B[0m\u001B[1;33m,\u001B[0m \u001B[0muri\u001B[0m\u001B[1;33m,\u001B[0m \u001B[0marg_data\u001B[0m\u001B[1;33m,\u001B[0m \u001B[0m_timeout\u001B[0m\u001B[1;33m)\u001B[0m\u001B[1;33m\u001B[0m\u001B[1;33m\u001B[0m\u001B[0m\n\u001B[0m\u001B[0;32m    365\u001B[0m \u001B[1;33m\u001B[0m\u001B[0m\n\u001B[0;32m    366\u001B[0m     \u001B[1;32mdef\u001B[0m \u001B[0m_handle_response\u001B[0m\u001B[1;33m(\u001B[0m\u001B[0mself\u001B[0m\u001B[1;33m,\u001B[0m \u001B[0mreq\u001B[0m\u001B[1;33m,\u001B[0m \u001B[0muri\u001B[0m\u001B[1;33m,\u001B[0m \u001B[0marg_data\u001B[0m\u001B[1;33m,\u001B[0m \u001B[0m_timeout\u001B[0m\u001B[1;33m=\u001B[0m\u001B[1;32mNone\u001B[0m\u001B[1;33m)\u001B[0m\u001B[1;33m:\u001B[0m\u001B[1;33m\u001B[0m\u001B[1;33m\u001B[0m\u001B[0m\n",
      "\u001B[1;32m~\\miniconda3\\lib\\site-packages\\twitter\\api.py\u001B[0m in \u001B[0;36m_handle_response\u001B[1;34m(self, req, uri, arg_data, _timeout)\u001B[0m\n\u001B[0;32m    404\u001B[0m                 \u001B[1;32mreturn\u001B[0m \u001B[1;33m[\u001B[0m\u001B[1;33m]\u001B[0m\u001B[1;33m\u001B[0m\u001B[1;33m\u001B[0m\u001B[0m\n\u001B[0;32m    405\u001B[0m             \u001B[1;32melse\u001B[0m\u001B[1;33m:\u001B[0m\u001B[1;33m\u001B[0m\u001B[1;33m\u001B[0m\u001B[0m\n\u001B[1;32m--> 406\u001B[1;33m                 \u001B[1;32mraise\u001B[0m \u001B[0mTwitterHTTPError\u001B[0m\u001B[1;33m(\u001B[0m\u001B[0me\u001B[0m\u001B[1;33m,\u001B[0m \u001B[0muri\u001B[0m\u001B[1;33m,\u001B[0m \u001B[0mself\u001B[0m\u001B[1;33m.\u001B[0m\u001B[0mformat\u001B[0m\u001B[1;33m,\u001B[0m \u001B[0marg_data\u001B[0m\u001B[1;33m)\u001B[0m\u001B[1;33m\u001B[0m\u001B[1;33m\u001B[0m\u001B[0m\n\u001B[0m\u001B[0;32m    407\u001B[0m \u001B[1;33m\u001B[0m\u001B[0m\n\u001B[0;32m    408\u001B[0m     \u001B[1;32mdef\u001B[0m \u001B[0m_handle_response_with_retry\u001B[0m\u001B[1;33m(\u001B[0m\u001B[0mself\u001B[0m\u001B[1;33m,\u001B[0m \u001B[0mreq\u001B[0m\u001B[1;33m,\u001B[0m \u001B[0muri\u001B[0m\u001B[1;33m,\u001B[0m \u001B[0marg_data\u001B[0m\u001B[1;33m,\u001B[0m \u001B[0m_timeout\u001B[0m\u001B[1;33m=\u001B[0m\u001B[1;32mNone\u001B[0m\u001B[1;33m)\u001B[0m\u001B[1;33m:\u001B[0m\u001B[1;33m\u001B[0m\u001B[1;33m\u001B[0m\u001B[0m\n",
      "\u001B[1;31mTwitterHTTPError\u001B[0m: Twitter sent status 429 for URL: 1.1/search/tweets.json using parameters: (q=%238YearsWithTaeyong&lang=id&count=100&tweet_mode=extended&max_id=1466618896090206213)\ndetails: {'errors': [{'message': 'Rate limit exceeded', 'code': 88}]}"
     ]
    }
   ],
   "source": [
    "import re\n",
    "import numpy as np\n",
    "\n",
    "for trend in jak_trend.get('name').values:\n",
    "    print('Starting', trend, end='... ')\n",
    "    tweet_df = pd.DataFrame()\n",
    "    max_tweets = 300\n",
    "    is_full = False\n",
    "    since_id_buff = ''\n",
    "\n",
    "    # Loop. Expect the amount of tweets fetched to exceed the value of max_tweets a bit. Each of the following tweets will be unique.\n",
    "    while len(tweet_df) < max_tweets and not is_full:\n",
    "        print('.', end='')\n",
    "        query = t_h.search.tweets(q=trend, lang='id', count=100, tweet_mode='extended') if since_id_buff == '' else t_h.search.tweets(q=trend, lang='id', count=100, tweet_mode='extended', max_id=since_id_buff)\n",
    "        if \"next_results\" in query['search_metadata']:\n",
    "            since_id_buff = re.search(r'max_id=(.+)&q', query['search_metadata']['next_results']).group(1)\n",
    "        else:\n",
    "            is_full = True\n",
    "        query = pd.DataFrame(query['statuses'])\n",
    "\n",
    "        # Get full text, put it in a new header\n",
    "        query_rt = []\n",
    "        if 'retweeted_status' in query.columns:\n",
    "            for i in query['retweeted_status']:\n",
    "                try:\n",
    "                    query_rt.append(i['full_text'])\n",
    "                except:\n",
    "                    query_rt.append(np.nan)\n",
    "        else:\n",
    "            query_rt = [np.nan] * len(query)\n",
    "            # print(query_rt)\n",
    "        query_text = []\n",
    "        for i in range(len(query_rt)):\n",
    "            # print(i, end='\\r')\n",
    "            query_text.append(query_rt[i] if not pd.isnull(query_rt[i]) else query['full_text'].loc[i])\n",
    "\n",
    "        query['inferred_text'] = query_text\n",
    "\n",
    "        # Fixing\n",
    "        tweet_df = tweet_df.append(query).reset_index().drop('index', axis=1) if tweet_df is not None else query\n",
    "\n",
    "        if len(tweet_df) >= max_tweets:\n",
    "            tweet_df = tweet_df.drop_duplicates(subset=['inferred_text']).reset_index().drop('index', axis=1)\n",
    "\n",
    "    tweet_df.to_json('../dataset/trends/'+trend+'.json', orient='index')\n",
    "    print('Done!')"
   ],
   "metadata": {
    "collapsed": false,
    "pycharm": {
     "name": "#%%\n"
    }
   }
  },
  {
   "cell_type": "code",
   "execution_count": 57,
   "outputs": [
    {
     "ename": "KeyError",
     "evalue": "'next_results'",
     "output_type": "error",
     "traceback": [
      "\u001B[1;31m---------------------------------------------------------------------------\u001B[0m",
      "\u001B[1;31mKeyError\u001B[0m                                  Traceback (most recent call last)",
      "\u001B[1;32m~\\AppData\\Local\\Temp/ipykernel_10036/3712831185.py\u001B[0m in \u001B[0;36m<module>\u001B[1;34m\u001B[0m\n\u001B[1;32m----> 1\u001B[1;33m \u001B[0mre\u001B[0m\u001B[1;33m.\u001B[0m\u001B[0msearch\u001B[0m\u001B[1;33m(\u001B[0m\u001B[1;34mr'max_id=(.+)&q'\u001B[0m\u001B[1;33m,\u001B[0m \u001B[0mquery\u001B[0m\u001B[1;33m[\u001B[0m\u001B[1;34m'search_metadata'\u001B[0m\u001B[1;33m]\u001B[0m\u001B[1;33m[\u001B[0m\u001B[1;34m'next_results'\u001B[0m\u001B[1;33m]\u001B[0m\u001B[1;33m)\u001B[0m\u001B[1;33m.\u001B[0m\u001B[0mgroup\u001B[0m\u001B[1;33m(\u001B[0m\u001B[1;36m1\u001B[0m\u001B[1;33m)\u001B[0m\u001B[1;33m\u001B[0m\u001B[1;33m\u001B[0m\u001B[0m\n\u001B[0m",
      "\u001B[1;31mKeyError\u001B[0m: 'next_results'"
     ]
    }
   ],
   "source": [
    "re.search(r'max_id=(.+)&q', query['search_metadata']['next_results']).group(1)"
   ],
   "metadata": {
    "collapsed": false,
    "pycharm": {
     "name": "#%%\n"
    }
   }
  },
  {
   "cell_type": "code",
   "execution_count": null,
   "outputs": [],
   "source": [
    "# Check the last tweet dataframe\n",
    "tweet_df.shape"
   ],
   "metadata": {
    "collapsed": false,
    "pycharm": {
     "name": "#%%\n"
    }
   }
  },
  {
   "cell_type": "code",
   "execution_count": 20,
   "outputs": [
    {
     "data": {
      "text/plain": "Index(['created_at', 'id', 'id_str', 'full_text', 'truncated',\n       'display_text_range', 'entities', 'metadata', 'source',\n       'in_reply_to_status_id', 'in_reply_to_status_id_str',\n       'in_reply_to_user_id', 'in_reply_to_user_id_str',\n       'in_reply_to_screen_name', 'user', 'geo', 'coordinates', 'place',\n       'contributors', 'retweeted_status', 'is_quote_status', 'retweet_count',\n       'favorite_count', 'favorited', 'retweeted', 'lang', 'extended_entities',\n       'possibly_sensitive', 'quoted_status_id', 'quoted_status_id_str',\n       'quoted_status', 'inferred_text'],\n      dtype='object')"
     },
     "execution_count": 20,
     "metadata": {},
     "output_type": "execute_result"
    }
   ],
   "source": [
    "tweet_df.columns"
   ],
   "metadata": {
    "collapsed": false,
    "pycharm": {
     "name": "#%%\n"
    }
   }
  },
  {
   "cell_type": "code",
   "execution_count": 24,
   "outputs": [],
   "source": [
    "tweet_df.to_json('../dataset/trends/nyoba.json', orient='index')"
   ],
   "metadata": {
    "collapsed": false,
    "pycharm": {
     "name": "#%%\n"
    }
   }
  },
  {
   "cell_type": "code",
   "execution_count": null,
   "outputs": [],
   "source": [],
   "metadata": {
    "collapsed": false,
    "pycharm": {
     "name": "#%%\n"
    }
   }
  }
 ],
 "metadata": {
  "kernelspec": {
   "display_name": "Python 3",
   "language": "python",
   "name": "python3"
  },
  "language_info": {
   "codemirror_mode": {
    "name": "ipython",
    "version": 2
   },
   "file_extension": ".py",
   "mimetype": "text/x-python",
   "name": "python",
   "nbconvert_exporter": "python",
   "pygments_lexer": "ipython2",
   "version": "2.7.6"
  }
 },
 "nbformat": 4,
 "nbformat_minor": 0
}