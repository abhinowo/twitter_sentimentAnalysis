{
 "cells": [
  {
   "cell_type": "code",
   "execution_count": 1,
   "metadata": {
    "collapsed": true
   },
   "outputs": [
    {
     "data": {
      "text/plain": "  emotion                                           raw_text  \\\n0    None  REPLY AND RT WITH THE TAGS 💜\\n\\n#AMAsTNT BTS @...   \n1    None  Lockscreens|@BTS_twt \\n#BTSxAMAs #AMAsTNT #BTS...   \n2       h  i love them 😭\\n\\n#AMAsTNT BTS @BTS_twt\\n\\nhttp...   \n3    None  [📸]\\n\\nNew Kids on The Block  bersama BTS.\\n\\n...   \n4    None  [📸]\\n\\nShawn Stockman instagram update.\\n\\n📎 :...   \n\n                                   1st_clean_twitter  \\\n0  REPLY AND RT WITH THE TAGS 💜\\n\\n AMAsTNT BTS B...   \n1  Lockscreens|BTS_twt \\n BTSxAMAs  AMAsTNT  BTS\\...   \n2          i love them 😭\\n\\n AMAsTNT BTS BTS_twt\\n\\n   \n3  [📸]\\n\\nNew Kids on The Block  bersama BTS.\\n\\n...   \n4  [📸]\\n\\nShawn Stockman instagram update.\\n\\n📎 :...   \n\n                            1st_clean_twitter_gensim  \\\n0              REPLY AND RT WITH THE TAGS 💜\\n\\n BTS    \n1   Lockscreens| \\n  \\nDon't repost! be honest!∅ \\n    \n2                         i love them 😭\\n\\n BTS \\n\\n   \n3  [📸]\\n\\nNew Kids on The Block  bersama BTS.\\n\\n...   \n4  [📸]\\n\\nShawn Stockman instagram update.\\n\\n📎 :...   \n\n                                     2nd_punctuation  \\\n0  REPLY AND RT WITH THE TAGS 💜\\n\\n AMAsTNT BTS B...   \n1  LockscreensBTStwt \\n BTSxAMAs  AMAsTNT  BTS\\nD...   \n2           i love them 😭\\n\\n AMAsTNT BTS BTStwt\\n\\n   \n3  📸\\n\\nNew Kids on The Block  bersama BTS\\n\\nDon...   \n4  📸\\n\\nShawn Stockman instagram update\\n\\n📎   \\n...   \n\n                              2nd_punctuation_gensim  \\\n0              REPLY AND RT WITH THE TAGS 💜\\n\\n BTS    \n1     Lockscreens \\n  \\nDont repost! be honest!∅ \\n    \n2                         i love them 😭\\n\\n BTS \\n\\n   \n3  📸\\n\\nNew Kids on The Block  bersama BTS.\\n\\nDo...   \n4  📸\\n\\nShawn Stockman instagram update.\\n\\n📎   \\...   \n\n                                           3rd_emoji  \\\n0  REPLY AND RT WITH THE TAGS \\n\\n AMAsTNT BTS BT...   \n1  LockscreensBTStwt \\n BTSxAMAs  AMAsTNT  BTS\\nD...   \n2            i love them \\n\\n AMAsTNT BTS BTStwt\\n\\n   \n3  \\n\\nNew Kids on The Block  bersama BTS\\n\\nDonn...   \n4  \\n\\nShawn Stockman instagram update\\n\\n   \\n\\n...   \n\n                                    3rd_emoji_gensim  \\\n0               REPLY AND RT WITH THE TAGS \\n\\n BTS    \n1     Lockscreens \\n  \\nDont repost! be honest!∅ \\n    \n2                          i love them \\n\\n BTS \\n\\n   \n3  \\n\\nNew Kids on The Block  bersama BTS.\\n\\nDon...   \n4  \\n\\nShawn Stockman instagram update.\\n\\n   \\n\\...   \n\n                                           4th_lower  \\\n0  reply and rt with the tags \\n\\n amastnt bts bt...   \n1  lockscreensbtstwt \\n btsxamas  amastnt  bts\\nd...   \n2            i love them \\n\\n amastnt bts btstwt\\n\\n   \n3  \\n\\nnew kids on the block  bersama bts\\n\\ndonn...   \n4  \\n\\nshawn stockman instagram update\\n\\n   \\n\\n...   \n\n                                    4th_lower_gensim  \\\n0               reply and rt with the tags \\n\\n bts    \n1     lockscreens \\n  \\ndont repost! be honest!∅ \\n    \n2                          i love them \\n\\n bts \\n\\n   \n3  \\n\\nnew kids on the block  bersama bts.\\n\\ndon...   \n4  \\n\\nshawn stockman instagram update.\\n\\n   \\n\\...   \n\n                                       5th_tokenized  \\\n0  [reply, and, rt, with, the, tags, amastnt, bts...   \n1  [lockscreensbtstwt, btsxamas, amastnt, bts, do...   \n2              [i, love, them, amastnt, bts, btstwt]   \n3  [new, kids, on, the, block, bersama, bts, donn...   \n4  [shawn, stockman, instagram, update, btsxamas,...   \n\n                                5th_tokenized_gensim  \\\n0             [reply, and, rt, with, the, tags, bts]   \n1   [lockscreens, dont, repost, !, be, honest, !, ∅]   \n2                               [i, love, them, bts]   \n3  [new, kids, on, the, block, bersama, bts, ., d...   \n4     [shawn, stockman, instagram, update, ., 방탄소년단]   \n\n                                            sentence  \\\n0  Sentence: \"reply and rt with the tags amastnt ...   \n1  Sentence: \"lockscreensbtstwt btsxamas amastnt ...   \n2  Sentence: \"i love them amastnt bts btstwt\"   [...   \n3  Sentence: \"new kids on the block bersama bts d...   \n4  Sentence: \"shawn stockman instagram update bts...   \n\n                                            6_tagged  \n0  reply_PROPN and_PROPN rt_PROPN with_PROPN the_...  \n1  lockscreensbtstwt_PROPN btsxamas_PROPN amastnt...  \n2  i_PROPN love_PROPN them_PROPN amastnt_PROPN bt...  \n3  new_PROPN kids_PROPN on_PROPN the_PROPN block_...  \n4  shawn_PROPN stockman_PROPN instagram_PROPN upd...  ",
      "text/html": "<div>\n<style scoped>\n    .dataframe tbody tr th:only-of-type {\n        vertical-align: middle;\n    }\n\n    .dataframe tbody tr th {\n        vertical-align: top;\n    }\n\n    .dataframe thead th {\n        text-align: right;\n    }\n</style>\n<table border=\"1\" class=\"dataframe\">\n  <thead>\n    <tr style=\"text-align: right;\">\n      <th></th>\n      <th>emotion</th>\n      <th>raw_text</th>\n      <th>1st_clean_twitter</th>\n      <th>1st_clean_twitter_gensim</th>\n      <th>2nd_punctuation</th>\n      <th>2nd_punctuation_gensim</th>\n      <th>3rd_emoji</th>\n      <th>3rd_emoji_gensim</th>\n      <th>4th_lower</th>\n      <th>4th_lower_gensim</th>\n      <th>5th_tokenized</th>\n      <th>5th_tokenized_gensim</th>\n      <th>sentence</th>\n      <th>6_tagged</th>\n    </tr>\n  </thead>\n  <tbody>\n    <tr>\n      <th>0</th>\n      <td>None</td>\n      <td>REPLY AND RT WITH THE TAGS 💜\\n\\n#AMAsTNT BTS @...</td>\n      <td>REPLY AND RT WITH THE TAGS 💜\\n\\n AMAsTNT BTS B...</td>\n      <td>REPLY AND RT WITH THE TAGS 💜\\n\\n BTS</td>\n      <td>REPLY AND RT WITH THE TAGS 💜\\n\\n AMAsTNT BTS B...</td>\n      <td>REPLY AND RT WITH THE TAGS 💜\\n\\n BTS</td>\n      <td>REPLY AND RT WITH THE TAGS \\n\\n AMAsTNT BTS BT...</td>\n      <td>REPLY AND RT WITH THE TAGS \\n\\n BTS</td>\n      <td>reply and rt with the tags \\n\\n amastnt bts bt...</td>\n      <td>reply and rt with the tags \\n\\n bts</td>\n      <td>[reply, and, rt, with, the, tags, amastnt, bts...</td>\n      <td>[reply, and, rt, with, the, tags, bts]</td>\n      <td>Sentence: \"reply and rt with the tags amastnt ...</td>\n      <td>reply_PROPN and_PROPN rt_PROPN with_PROPN the_...</td>\n    </tr>\n    <tr>\n      <th>1</th>\n      <td>None</td>\n      <td>Lockscreens|@BTS_twt \\n#BTSxAMAs #AMAsTNT #BTS...</td>\n      <td>Lockscreens|BTS_twt \\n BTSxAMAs  AMAsTNT  BTS\\...</td>\n      <td>Lockscreens| \\n  \\nDon't repost! be honest!∅ \\n</td>\n      <td>LockscreensBTStwt \\n BTSxAMAs  AMAsTNT  BTS\\nD...</td>\n      <td>Lockscreens \\n  \\nDont repost! be honest!∅ \\n</td>\n      <td>LockscreensBTStwt \\n BTSxAMAs  AMAsTNT  BTS\\nD...</td>\n      <td>Lockscreens \\n  \\nDont repost! be honest!∅ \\n</td>\n      <td>lockscreensbtstwt \\n btsxamas  amastnt  bts\\nd...</td>\n      <td>lockscreens \\n  \\ndont repost! be honest!∅ \\n</td>\n      <td>[lockscreensbtstwt, btsxamas, amastnt, bts, do...</td>\n      <td>[lockscreens, dont, repost, !, be, honest, !, ∅]</td>\n      <td>Sentence: \"lockscreensbtstwt btsxamas amastnt ...</td>\n      <td>lockscreensbtstwt_PROPN btsxamas_PROPN amastnt...</td>\n    </tr>\n    <tr>\n      <th>2</th>\n      <td>h</td>\n      <td>i love them 😭\\n\\n#AMAsTNT BTS @BTS_twt\\n\\nhttp...</td>\n      <td>i love them 😭\\n\\n AMAsTNT BTS BTS_twt\\n\\n</td>\n      <td>i love them 😭\\n\\n BTS \\n\\n</td>\n      <td>i love them 😭\\n\\n AMAsTNT BTS BTStwt\\n\\n</td>\n      <td>i love them 😭\\n\\n BTS \\n\\n</td>\n      <td>i love them \\n\\n AMAsTNT BTS BTStwt\\n\\n</td>\n      <td>i love them \\n\\n BTS \\n\\n</td>\n      <td>i love them \\n\\n amastnt bts btstwt\\n\\n</td>\n      <td>i love them \\n\\n bts \\n\\n</td>\n      <td>[i, love, them, amastnt, bts, btstwt]</td>\n      <td>[i, love, them, bts]</td>\n      <td>Sentence: \"i love them amastnt bts btstwt\"   [...</td>\n      <td>i_PROPN love_PROPN them_PROPN amastnt_PROPN bt...</td>\n    </tr>\n    <tr>\n      <th>3</th>\n      <td>None</td>\n      <td>[📸]\\n\\nNew Kids on The Block  bersama BTS.\\n\\n...</td>\n      <td>[📸]\\n\\nNew Kids on The Block  bersama BTS.\\n\\n...</td>\n      <td>[📸]\\n\\nNew Kids on The Block  bersama BTS.\\n\\n...</td>\n      <td>📸\\n\\nNew Kids on The Block  bersama BTS\\n\\nDon...</td>\n      <td>📸\\n\\nNew Kids on The Block  bersama BTS.\\n\\nDo...</td>\n      <td>\\n\\nNew Kids on The Block  bersama BTS\\n\\nDonn...</td>\n      <td>\\n\\nNew Kids on The Block  bersama BTS.\\n\\nDon...</td>\n      <td>\\n\\nnew kids on the block  bersama bts\\n\\ndonn...</td>\n      <td>\\n\\nnew kids on the block  bersama bts.\\n\\ndon...</td>\n      <td>[new, kids, on, the, block, bersama, bts, donn...</td>\n      <td>[new, kids, on, the, block, bersama, bts, ., d...</td>\n      <td>Sentence: \"new kids on the block bersama bts d...</td>\n      <td>new_PROPN kids_PROPN on_PROPN the_PROPN block_...</td>\n    </tr>\n    <tr>\n      <th>4</th>\n      <td>None</td>\n      <td>[📸]\\n\\nShawn Stockman instagram update.\\n\\n📎 :...</td>\n      <td>[📸]\\n\\nShawn Stockman instagram update.\\n\\n📎 :...</td>\n      <td>[📸]\\n\\nShawn Stockman instagram update.\\n\\n📎 :...</td>\n      <td>📸\\n\\nShawn Stockman instagram update\\n\\n📎   \\n...</td>\n      <td>📸\\n\\nShawn Stockman instagram update.\\n\\n📎   \\...</td>\n      <td>\\n\\nShawn Stockman instagram update\\n\\n   \\n\\n...</td>\n      <td>\\n\\nShawn Stockman instagram update.\\n\\n   \\n\\...</td>\n      <td>\\n\\nshawn stockman instagram update\\n\\n   \\n\\n...</td>\n      <td>\\n\\nshawn stockman instagram update.\\n\\n   \\n\\...</td>\n      <td>[shawn, stockman, instagram, update, btsxamas,...</td>\n      <td>[shawn, stockman, instagram, update, ., 방탄소년단]</td>\n      <td>Sentence: \"shawn stockman instagram update bts...</td>\n      <td>shawn_PROPN stockman_PROPN instagram_PROPN upd...</td>\n    </tr>\n  </tbody>\n</table>\n</div>"
     },
     "execution_count": 1,
     "metadata": {},
     "output_type": "execute_result"
    }
   ],
   "source": [
    "import pandas as pd\n",
    "\n",
    "tweets_df = pd.read_json('../dataset/tweet-processed.json', orient='index')\n",
    "tweets_df.head()"
   ]
  },
  {
   "cell_type": "code",
   "execution_count": 65,
   "outputs": [],
   "source": [
    "# One-hot labels\n",
    "columns = ['Anger', 'Disgust', 'Fear', 'Happy', 'Hopeful', 'Surprise', 'Questioning', 'Sad', 'Laughter']"
   ],
   "metadata": {
    "collapsed": false,
    "pycharm": {
     "name": "#%%\n"
    }
   }
  },
  {
   "cell_type": "code",
   "execution_count": 2,
   "outputs": [
    {
     "data": {
      "text/plain": "   emotion                                           raw_text  \\\n2        h  i love them 😭\\n\\n#AMAsTNT BTS @BTS_twt\\n\\nhttp...   \n8        s  Wtf!? This is much more clearer than the broad...   \n10       h  the fact that JK didn’t even blink whilst he w...   \n13       h  CONGRATS to #BTS for winning the ' #SongOfTheY...   \n18       h  the moment @BTS_twt won best pop song for butt...   \n\n                                    1st_clean_twitter  \\\n2           i love them 😭\\n\\n AMAsTNT BTS BTS_twt\\n\\n   \n8   Wtf!? This is much more clearer than the broad...   \n10  the fact that JK didn’t even blink whilst he w...   \n13  CONGRATS to  BTS for winning the '  SongOfTheY...   \n18  the moment BTS_twt won best pop song for butte...   \n\n                             1st_clean_twitter_gensim  \\\n2                          i love them 😭\\n\\n BTS \\n\\n   \n8   Wtf!? This is much more clearer than the broad...   \n10  the fact that JK didn’t even blink whilst he w...   \n13  CONGRATS to  for winning the '  ' DAESANG \\nFo...   \n18        the moment  won best pop song for butter      \n\n                                      2nd_punctuation  \\\n2            i love them 😭\\n\\n AMAsTNT BTS BTStwt\\n\\n   \n8   Wtf This is much more clearer than the broadca...   \n10  the fact that JK didn't even blink whilst he w...   \n13  CONGRATS to  BTS for winning the   SongOfTheYe...   \n18  the moment BTStwt won best pop song for butter...   \n\n                               2nd_punctuation_gensim  \\\n2                          i love them 😭\\n\\n BTS \\n\\n   \n8   Wtf!? This is much more clearer than the broad...   \n10  the fact that JK didn't even blink whilst he w...   \n13  CONGRATS to  for winning the    DAESANG \\nFor ...   \n18        the moment  won best pop song for butter      \n\n                                            3rd_emoji  \\\n2             i love them \\n\\n AMAsTNT BTS BTStwt\\n\\n   \n8   Wtf This is much more clearer than the broadca...   \n10  the fact that JK didn't even blink whilst he w...   \n13  CONGRATS to  BTS for winning the   SongOfTheYe...   \n18  the moment BTStwt won best pop song for butter...   \n\n                                     3rd_emoji_gensim  \\\n2                           i love them \\n\\n BTS \\n\\n   \n8   Wtf!? This is much more clearer than the broad...   \n10  the fact that JK didn't even blink whilst he w...   \n13  CONGRATS to  for winning the    DAESANG \\nFor ...   \n18        the moment  won best pop song for butter      \n\n                                            4th_lower  \\\n2             i love them \\n\\n amastnt bts btstwt\\n\\n   \n8   wtf this is much more clearer than the broadca...   \n10  the fact that jk didn't even blink whilst he w...   \n13  congrats to  bts for winning the   songoftheye...   \n18  the moment btstwt won best pop song for butter...   \n\n                                     4th_lower_gensim  \\\n2                           i love them \\n\\n bts \\n\\n   \n8   wtf!? this is much more clearer than the broad...   \n10  the fact that jk didn't even blink whilst he w...   \n13  congrats to  for winning the    daesang \\nfor ...   \n18        the moment  won best pop song for butter      \n\n                                        5th_tokenized  \\\n2               [i, love, them, amastnt, bts, btstwt]   \n8   [wtf, this, is, much, more, clearer, than, the...   \n10  [the, fact, that, jk, did, n't, even, blink, w...   \n13  [congrats, to, bts, for, winning, the, songoft...   \n18  [the, moment, btstwt, won, best, pop, song, fo...   \n\n                                 5th_tokenized_gensim  \\\n2                                [i, love, them, bts]   \n8   [wtf, !, ?, this, is, much, more, clearer, tha...   \n10  [the, fact, that, jk, did, n't, even, blink, w...   \n13  [congrats, to, for, winning, the, daesang, for...   \n18   [the, moment, won, best, pop, song, for, butter]   \n\n                                             sentence  \\\n2   Sentence: \"i love them amastnt bts btstwt\"   [...   \n8   Sentence: \"wtf this is much more clearer than ...   \n10  Sentence: \"the fact that jk did n't even blink...   \n13  Sentence: \"congrats to bts for winning the son...   \n18  Sentence: \"the moment btstwt won best pop song...   \n\n                                             6_tagged  \n2   i_PROPN love_PROPN them_PROPN amastnt_PROPN bt...  \n8   wtf_PROPN this_PROPN is_PROPN much_PROPN more_...  \n10  the_PROPN fact_PROPN that_PROPN jk_PROPN did_P...  \n13  congrats_PROPN to_PROPN bts_PROPN for_PROPN wi...  \n18  the_PROPN moment_PROPN btstwt_PROPN won_PROPN ...  ",
      "text/html": "<div>\n<style scoped>\n    .dataframe tbody tr th:only-of-type {\n        vertical-align: middle;\n    }\n\n    .dataframe tbody tr th {\n        vertical-align: top;\n    }\n\n    .dataframe thead th {\n        text-align: right;\n    }\n</style>\n<table border=\"1\" class=\"dataframe\">\n  <thead>\n    <tr style=\"text-align: right;\">\n      <th></th>\n      <th>emotion</th>\n      <th>raw_text</th>\n      <th>1st_clean_twitter</th>\n      <th>1st_clean_twitter_gensim</th>\n      <th>2nd_punctuation</th>\n      <th>2nd_punctuation_gensim</th>\n      <th>3rd_emoji</th>\n      <th>3rd_emoji_gensim</th>\n      <th>4th_lower</th>\n      <th>4th_lower_gensim</th>\n      <th>5th_tokenized</th>\n      <th>5th_tokenized_gensim</th>\n      <th>sentence</th>\n      <th>6_tagged</th>\n    </tr>\n  </thead>\n  <tbody>\n    <tr>\n      <th>2</th>\n      <td>h</td>\n      <td>i love them 😭\\n\\n#AMAsTNT BTS @BTS_twt\\n\\nhttp...</td>\n      <td>i love them 😭\\n\\n AMAsTNT BTS BTS_twt\\n\\n</td>\n      <td>i love them 😭\\n\\n BTS \\n\\n</td>\n      <td>i love them 😭\\n\\n AMAsTNT BTS BTStwt\\n\\n</td>\n      <td>i love them 😭\\n\\n BTS \\n\\n</td>\n      <td>i love them \\n\\n AMAsTNT BTS BTStwt\\n\\n</td>\n      <td>i love them \\n\\n BTS \\n\\n</td>\n      <td>i love them \\n\\n amastnt bts btstwt\\n\\n</td>\n      <td>i love them \\n\\n bts \\n\\n</td>\n      <td>[i, love, them, amastnt, bts, btstwt]</td>\n      <td>[i, love, them, bts]</td>\n      <td>Sentence: \"i love them amastnt bts btstwt\"   [...</td>\n      <td>i_PROPN love_PROPN them_PROPN amastnt_PROPN bt...</td>\n    </tr>\n    <tr>\n      <th>8</th>\n      <td>s</td>\n      <td>Wtf!? This is much more clearer than the broad...</td>\n      <td>Wtf!? This is much more clearer than the broad...</td>\n      <td>Wtf!? This is much more clearer than the broad...</td>\n      <td>Wtf This is much more clearer than the broadca...</td>\n      <td>Wtf!? This is much more clearer than the broad...</td>\n      <td>Wtf This is much more clearer than the broadca...</td>\n      <td>Wtf!? This is much more clearer than the broad...</td>\n      <td>wtf this is much more clearer than the broadca...</td>\n      <td>wtf!? this is much more clearer than the broad...</td>\n      <td>[wtf, this, is, much, more, clearer, than, the...</td>\n      <td>[wtf, !, ?, this, is, much, more, clearer, tha...</td>\n      <td>Sentence: \"wtf this is much more clearer than ...</td>\n      <td>wtf_PROPN this_PROPN is_PROPN much_PROPN more_...</td>\n    </tr>\n    <tr>\n      <th>10</th>\n      <td>h</td>\n      <td>the fact that JK didn’t even blink whilst he w...</td>\n      <td>the fact that JK didn’t even blink whilst he w...</td>\n      <td>the fact that JK didn’t even blink whilst he w...</td>\n      <td>the fact that JK didn't even blink whilst he w...</td>\n      <td>the fact that JK didn't even blink whilst he w...</td>\n      <td>the fact that JK didn't even blink whilst he w...</td>\n      <td>the fact that JK didn't even blink whilst he w...</td>\n      <td>the fact that jk didn't even blink whilst he w...</td>\n      <td>the fact that jk didn't even blink whilst he w...</td>\n      <td>[the, fact, that, jk, did, n't, even, blink, w...</td>\n      <td>[the, fact, that, jk, did, n't, even, blink, w...</td>\n      <td>Sentence: \"the fact that jk did n't even blink...</td>\n      <td>the_PROPN fact_PROPN that_PROPN jk_PROPN did_P...</td>\n    </tr>\n    <tr>\n      <th>13</th>\n      <td>h</td>\n      <td>CONGRATS to #BTS for winning the ' #SongOfTheY...</td>\n      <td>CONGRATS to  BTS for winning the '  SongOfTheY...</td>\n      <td>CONGRATS to  for winning the '  ' DAESANG \\nFo...</td>\n      <td>CONGRATS to  BTS for winning the   SongOfTheYe...</td>\n      <td>CONGRATS to  for winning the    DAESANG \\nFor ...</td>\n      <td>CONGRATS to  BTS for winning the   SongOfTheYe...</td>\n      <td>CONGRATS to  for winning the    DAESANG \\nFor ...</td>\n      <td>congrats to  bts for winning the   songoftheye...</td>\n      <td>congrats to  for winning the    daesang \\nfor ...</td>\n      <td>[congrats, to, bts, for, winning, the, songoft...</td>\n      <td>[congrats, to, for, winning, the, daesang, for...</td>\n      <td>Sentence: \"congrats to bts for winning the son...</td>\n      <td>congrats_PROPN to_PROPN bts_PROPN for_PROPN wi...</td>\n    </tr>\n    <tr>\n      <th>18</th>\n      <td>h</td>\n      <td>the moment @BTS_twt won best pop song for butt...</td>\n      <td>the moment BTS_twt won best pop song for butte...</td>\n      <td>the moment  won best pop song for butter</td>\n      <td>the moment BTStwt won best pop song for butter...</td>\n      <td>the moment  won best pop song for butter</td>\n      <td>the moment BTStwt won best pop song for butter...</td>\n      <td>the moment  won best pop song for butter</td>\n      <td>the moment btstwt won best pop song for butter...</td>\n      <td>the moment  won best pop song for butter</td>\n      <td>[the, moment, btstwt, won, best, pop, song, fo...</td>\n      <td>[the, moment, won, best, pop, song, for, butter]</td>\n      <td>Sentence: \"the moment btstwt won best pop song...</td>\n      <td>the_PROPN moment_PROPN btstwt_PROPN won_PROPN ...</td>\n    </tr>\n  </tbody>\n</table>\n</div>"
     },
     "execution_count": 2,
     "metadata": {},
     "output_type": "execute_result"
    }
   ],
   "source": [
    "# dropna\n",
    "tweets_df.dropna(inplace=True)\n",
    "tweets_df.head()"
   ],
   "metadata": {
    "collapsed": false,
    "pycharm": {
     "name": "#%%\n"
    }
   }
  },
  {
   "cell_type": "code",
   "execution_count": 3,
   "outputs": [
    {
     "data": {
      "text/plain": "   emotion                                           raw_text  \\\n2        h  i love them 😭\\n\\n#AMAsTNT BTS @BTS_twt\\n\\nhttp...   \n8        s  Wtf!? This is much more clearer than the broad...   \n10       h  the fact that JK didn’t even blink whilst he w...   \n13       h  CONGRATS to #BTS for winning the ' #SongOfTheY...   \n18       h  the moment @BTS_twt won best pop song for butt...   \n\n                                    1st_clean_twitter  \\\n2           i love them 😭\\n\\n AMAsTNT BTS BTS_twt\\n\\n   \n8   Wtf!? This is much more clearer than the broad...   \n10  the fact that JK didn’t even blink whilst he w...   \n13  CONGRATS to  BTS for winning the '  SongOfTheY...   \n18  the moment BTS_twt won best pop song for butte...   \n\n                             1st_clean_twitter_gensim  \\\n2                          i love them 😭\\n\\n BTS \\n\\n   \n8   Wtf!? This is much more clearer than the broad...   \n10  the fact that JK didn’t even blink whilst he w...   \n13  CONGRATS to  for winning the '  ' DAESANG \\nFo...   \n18        the moment  won best pop song for butter      \n\n                                      2nd_punctuation  \\\n2            i love them 😭\\n\\n AMAsTNT BTS BTStwt\\n\\n   \n8   Wtf This is much more clearer than the broadca...   \n10  the fact that JK didn't even blink whilst he w...   \n13  CONGRATS to  BTS for winning the   SongOfTheYe...   \n18  the moment BTStwt won best pop song for butter...   \n\n                               2nd_punctuation_gensim  \\\n2                          i love them 😭\\n\\n BTS \\n\\n   \n8   Wtf!? This is much more clearer than the broad...   \n10  the fact that JK didn't even blink whilst he w...   \n13  CONGRATS to  for winning the    DAESANG \\nFor ...   \n18        the moment  won best pop song for butter      \n\n                                            3rd_emoji  \\\n2             i love them \\n\\n AMAsTNT BTS BTStwt\\n\\n   \n8   Wtf This is much more clearer than the broadca...   \n10  the fact that JK didn't even blink whilst he w...   \n13  CONGRATS to  BTS for winning the   SongOfTheYe...   \n18  the moment BTStwt won best pop song for butter...   \n\n                                     3rd_emoji_gensim  \\\n2                           i love them \\n\\n BTS \\n\\n   \n8   Wtf!? This is much more clearer than the broad...   \n10  the fact that JK didn't even blink whilst he w...   \n13  CONGRATS to  for winning the    DAESANG \\nFor ...   \n18        the moment  won best pop song for butter      \n\n                                            4th_lower  \\\n2             i love them \\n\\n amastnt bts btstwt\\n\\n   \n8   wtf this is much more clearer than the broadca...   \n10  the fact that jk didn't even blink whilst he w...   \n13  congrats to  bts for winning the   songoftheye...   \n18  the moment btstwt won best pop song for butter...   \n\n                                     4th_lower_gensim  \\\n2                           i love them \\n\\n bts \\n\\n   \n8   wtf!? this is much more clearer than the broad...   \n10  the fact that jk didn't even blink whilst he w...   \n13  congrats to  for winning the    daesang \\nfor ...   \n18        the moment  won best pop song for butter      \n\n                                        5th_tokenized  \\\n2               [i, love, them, amastnt, bts, btstwt]   \n8   [wtf, this, is, much, more, clearer, than, the...   \n10  [the, fact, that, jk, did, n't, even, blink, w...   \n13  [congrats, to, bts, for, winning, the, songoft...   \n18  [the, moment, btstwt, won, best, pop, song, fo...   \n\n                                 5th_tokenized_gensim  \\\n2                                [i, love, them, bts]   \n8   [wtf, !, ?, this, is, much, more, clearer, tha...   \n10  [the, fact, that, jk, did, n't, even, blink, w...   \n13  [congrats, to, for, winning, the, daesang, for...   \n18   [the, moment, won, best, pop, song, for, butter]   \n\n                                             sentence  \\\n2   Sentence: \"i love them amastnt bts btstwt\"   [...   \n8   Sentence: \"wtf this is much more clearer than ...   \n10  Sentence: \"the fact that jk did n't even blink...   \n13  Sentence: \"congrats to bts for winning the son...   \n18  Sentence: \"the moment btstwt won best pop song...   \n\n                                             6_tagged  \n2   i_PROPN love_PROPN them_PROPN amastnt_PROPN bt...  \n8   wtf_PROPN this_PROPN is_PROPN much_PROPN more_...  \n10  the_PROPN fact_PROPN that_PROPN jk_PROPN did_P...  \n13  congrats_PROPN to_PROPN bts_PROPN for_PROPN wi...  \n18  the_PROPN moment_PROPN btstwt_PROPN won_PROPN ...  ",
      "text/html": "<div>\n<style scoped>\n    .dataframe tbody tr th:only-of-type {\n        vertical-align: middle;\n    }\n\n    .dataframe tbody tr th {\n        vertical-align: top;\n    }\n\n    .dataframe thead th {\n        text-align: right;\n    }\n</style>\n<table border=\"1\" class=\"dataframe\">\n  <thead>\n    <tr style=\"text-align: right;\">\n      <th></th>\n      <th>emotion</th>\n      <th>raw_text</th>\n      <th>1st_clean_twitter</th>\n      <th>1st_clean_twitter_gensim</th>\n      <th>2nd_punctuation</th>\n      <th>2nd_punctuation_gensim</th>\n      <th>3rd_emoji</th>\n      <th>3rd_emoji_gensim</th>\n      <th>4th_lower</th>\n      <th>4th_lower_gensim</th>\n      <th>5th_tokenized</th>\n      <th>5th_tokenized_gensim</th>\n      <th>sentence</th>\n      <th>6_tagged</th>\n    </tr>\n  </thead>\n  <tbody>\n    <tr>\n      <th>2</th>\n      <td>h</td>\n      <td>i love them 😭\\n\\n#AMAsTNT BTS @BTS_twt\\n\\nhttp...</td>\n      <td>i love them 😭\\n\\n AMAsTNT BTS BTS_twt\\n\\n</td>\n      <td>i love them 😭\\n\\n BTS \\n\\n</td>\n      <td>i love them 😭\\n\\n AMAsTNT BTS BTStwt\\n\\n</td>\n      <td>i love them 😭\\n\\n BTS \\n\\n</td>\n      <td>i love them \\n\\n AMAsTNT BTS BTStwt\\n\\n</td>\n      <td>i love them \\n\\n BTS \\n\\n</td>\n      <td>i love them \\n\\n amastnt bts btstwt\\n\\n</td>\n      <td>i love them \\n\\n bts \\n\\n</td>\n      <td>[i, love, them, amastnt, bts, btstwt]</td>\n      <td>[i, love, them, bts]</td>\n      <td>Sentence: \"i love them amastnt bts btstwt\"   [...</td>\n      <td>i_PROPN love_PROPN them_PROPN amastnt_PROPN bt...</td>\n    </tr>\n    <tr>\n      <th>8</th>\n      <td>s</td>\n      <td>Wtf!? This is much more clearer than the broad...</td>\n      <td>Wtf!? This is much more clearer than the broad...</td>\n      <td>Wtf!? This is much more clearer than the broad...</td>\n      <td>Wtf This is much more clearer than the broadca...</td>\n      <td>Wtf!? This is much more clearer than the broad...</td>\n      <td>Wtf This is much more clearer than the broadca...</td>\n      <td>Wtf!? This is much more clearer than the broad...</td>\n      <td>wtf this is much more clearer than the broadca...</td>\n      <td>wtf!? this is much more clearer than the broad...</td>\n      <td>[wtf, this, is, much, more, clearer, than, the...</td>\n      <td>[wtf, !, ?, this, is, much, more, clearer, tha...</td>\n      <td>Sentence: \"wtf this is much more clearer than ...</td>\n      <td>wtf_PROPN this_PROPN is_PROPN much_PROPN more_...</td>\n    </tr>\n    <tr>\n      <th>10</th>\n      <td>h</td>\n      <td>the fact that JK didn’t even blink whilst he w...</td>\n      <td>the fact that JK didn’t even blink whilst he w...</td>\n      <td>the fact that JK didn’t even blink whilst he w...</td>\n      <td>the fact that JK didn't even blink whilst he w...</td>\n      <td>the fact that JK didn't even blink whilst he w...</td>\n      <td>the fact that JK didn't even blink whilst he w...</td>\n      <td>the fact that JK didn't even blink whilst he w...</td>\n      <td>the fact that jk didn't even blink whilst he w...</td>\n      <td>the fact that jk didn't even blink whilst he w...</td>\n      <td>[the, fact, that, jk, did, n't, even, blink, w...</td>\n      <td>[the, fact, that, jk, did, n't, even, blink, w...</td>\n      <td>Sentence: \"the fact that jk did n't even blink...</td>\n      <td>the_PROPN fact_PROPN that_PROPN jk_PROPN did_P...</td>\n    </tr>\n    <tr>\n      <th>13</th>\n      <td>h</td>\n      <td>CONGRATS to #BTS for winning the ' #SongOfTheY...</td>\n      <td>CONGRATS to  BTS for winning the '  SongOfTheY...</td>\n      <td>CONGRATS to  for winning the '  ' DAESANG \\nFo...</td>\n      <td>CONGRATS to  BTS for winning the   SongOfTheYe...</td>\n      <td>CONGRATS to  for winning the    DAESANG \\nFor ...</td>\n      <td>CONGRATS to  BTS for winning the   SongOfTheYe...</td>\n      <td>CONGRATS to  for winning the    DAESANG \\nFor ...</td>\n      <td>congrats to  bts for winning the   songoftheye...</td>\n      <td>congrats to  for winning the    daesang \\nfor ...</td>\n      <td>[congrats, to, bts, for, winning, the, songoft...</td>\n      <td>[congrats, to, for, winning, the, daesang, for...</td>\n      <td>Sentence: \"congrats to bts for winning the son...</td>\n      <td>congrats_PROPN to_PROPN bts_PROPN for_PROPN wi...</td>\n    </tr>\n    <tr>\n      <th>18</th>\n      <td>h</td>\n      <td>the moment @BTS_twt won best pop song for butt...</td>\n      <td>the moment BTS_twt won best pop song for butte...</td>\n      <td>the moment  won best pop song for butter</td>\n      <td>the moment BTStwt won best pop song for butter...</td>\n      <td>the moment  won best pop song for butter</td>\n      <td>the moment BTStwt won best pop song for butter...</td>\n      <td>the moment  won best pop song for butter</td>\n      <td>the moment btstwt won best pop song for butter...</td>\n      <td>the moment  won best pop song for butter</td>\n      <td>[the, moment, btstwt, won, best, pop, song, fo...</td>\n      <td>[the, moment, won, best, pop, song, for, butter]</td>\n      <td>Sentence: \"the moment btstwt won best pop song...</td>\n      <td>the_PROPN moment_PROPN btstwt_PROPN won_PROPN ...</td>\n    </tr>\n  </tbody>\n</table>\n</div>"
     },
     "execution_count": 3,
     "metadata": {},
     "output_type": "execute_result"
    }
   ],
   "source": [
    "# Removing neutral\n",
    "tweets_df = tweets_df[tweets_df['emotion'] != 'n']\n",
    "tweets_df.head()"
   ],
   "metadata": {
    "collapsed": false,
    "pycharm": {
     "name": "#%%\n"
    }
   }
  },
  {
   "cell_type": "code",
   "execution_count": 4,
   "outputs": [
    {
     "name": "stdout",
     "output_type": "stream",
     "text": [
      "Word mean\t: 97.9908256880734 \n",
      "Word min\t: 7 \n",
      "Word max\t: 279\n"
     ]
    }
   ],
   "source": [
    "# Finding out length\n",
    "word_counts = tweets_df['4th_lower_gensim'].apply(len)\n",
    "\n",
    "word_mean = word_counts.mean()\n",
    "word_min = word_counts.min()\n",
    "word_max = word_counts.max()\n",
    "\n",
    "print('Word mean\\t:', word_mean,\n",
    "      '\\nWord min\\t:', word_min,\n",
    "      '\\nWord max\\t:', word_max)"
   ],
   "metadata": {
    "collapsed": false,
    "pycharm": {
     "name": "#%%\n"
    }
   }
  },
  {
   "cell_type": "markdown",
   "source": [
    "Temporary verdict:\n",
    "We will be using 20."
   ],
   "metadata": {
    "collapsed": false
   }
  },
  {
   "cell_type": "code",
   "execution_count": 5,
   "outputs": [],
   "source": [
    "# Train-test split\n",
    "from sklearn.model_selection import train_test_split\n",
    "\n",
    "sentence_train, sentence_valid, emotion_train, emotion_valid = train_test_split(tweets_df['4th_lower_gensim'], tweets_df['emotion'], test_size=0.3, random_state=42)"
   ],
   "metadata": {
    "collapsed": false,
    "pycharm": {
     "name": "#%%\n"
    }
   }
  },
  {
   "cell_type": "code",
   "execution_count": 6,
   "outputs": [
    {
     "data": {
      "text/plain": "<AxesSubplot:xlabel='emotion', ylabel='Count'>"
     },
     "execution_count": 6,
     "metadata": {},
     "output_type": "execute_result"
    },
    {
     "data": {
      "text/plain": "<Figure size 432x288 with 1 Axes>",
      "image/png": "[encoded data removed]"
     },
     "metadata": {
      "needs_background": "light"
     },
     "output_type": "display_data"
    }
   ],
   "source": [
    "import seaborn as sns\n",
    "\n",
    "sns.histplot(emotion_train)"
   ],
   "metadata": {
    "collapsed": false,
    "pycharm": {
     "name": "#%%\n"
    }
   }
  },
  {
   "cell_type": "code",
   "execution_count": 7,
   "outputs": [
    {
     "data": {
      "text/plain": "<AxesSubplot:xlabel='emotion', ylabel='Count'>"
     },
     "execution_count": 7,
     "metadata": {},
     "output_type": "execute_result"
    },
    {
     "data": {
      "text/plain": "<Figure size 432x288 with 1 Axes>",
      "image/png": "[encoded data removed]"
     },
     "metadata": {
      "needs_background": "light"
     },
     "output_type": "display_data"
    }
   ],
   "source": [
    "sns.histplot(emotion_valid)"
   ],
   "metadata": {
    "collapsed": false,
    "pycharm": {
     "name": "#%%\n"
    }
   }
  },
  {
   "cell_type": "markdown",
   "source": [
    "Temporary verdict: both training and validation data is balanced, except for happy. We are probably going to use confusion matrix."
   ],
   "metadata": {
    "collapsed": false
   }
  },
  {
   "cell_type": "code",
   "execution_count": 8,
   "outputs": [],
   "source": [
    "# Tokenizer and Pad Sequence variables\n",
    "max_length = 40\n",
    "trunc_type = 'post'\n",
    "padding = 'post'"
   ],
   "metadata": {
    "collapsed": false,
    "pycharm": {
     "name": "#%%\n"
    }
   }
  },
  {
   "cell_type": "code",
   "execution_count": 9,
   "outputs": [],
   "source": [
    "import tensorflow as tf\n",
    "\n",
    "tokenizer = tf.keras.preprocessing.text.Tokenizer(\n",
    "      oov_token='<OOV>'\n",
    ")\n",
    "tokenizer.fit_on_texts(sentence_train)"
   ],
   "metadata": {
    "collapsed": false,
    "pycharm": {
     "name": "#%%\n"
    }
   }
  },
  {
   "cell_type": "code",
   "execution_count": 10,
   "outputs": [],
   "source": [
    "num_sequence_train = tokenizer.texts_to_sequences(sentence_train)\n",
    "num_sequence_valid = tokenizer.texts_to_sequences(sentence_valid)"
   ],
   "metadata": {
    "collapsed": false,
    "pycharm": {
     "name": "#%%\n"
    }
   }
  },
  {
   "cell_type": "code",
   "execution_count": 11,
   "outputs": [],
   "source": [
    "pad_sequence_train = tf.keras.preprocessing.sequence.pad_sequences(num_sequence_train, maxlen=max_length, padding=padding, truncating=trunc_type)\n",
    "pad_sequence_valid = tf.keras.preprocessing.sequence.pad_sequences(num_sequence_valid, maxlen=max_length, padding=padding, truncating=trunc_type)"
   ],
   "metadata": {
    "collapsed": false,
    "pycharm": {
     "name": "#%%\n"
    }
   }
  },
  {
   "cell_type": "code",
   "execution_count": 13,
   "outputs": [],
   "source": [
    "# def build_model(vocab_size, hidden_size=1, hidden_layer=tf.keras.layers.Dense, neurons=8, optimizer=tf.keras.optimizers.Adam(), loss=tf.keras.losses.CategoricalCrossentropy()):\n",
    "#       _model = tf.keras.Sequential()\n",
    "#       _model.add(tf.keras.layers.Embedding(vocab_size, 16, input_length=max_length))\n",
    "#       for i in range(hidden_size):\n",
    "#             if (hidden_layer == tf.keras.layers.LSTM) or hidden_layer == tf.keras.layers.Bidirectional:\n",
    "#                   if i != hidden_size-1 and i > 1:\n",
    "#                         _model.add(hidden_layer(neurons, return_sequence=True))\n",
    "#                   else:\n",
    "#                         _model.add(tf.keras.layers.LSTM(neurons))\n",
    "#             elif hidden_layer == tf.keras.layers.Dense:\n",
    "#                   _model.add(tf.keras.layers.Dense(neurons))\n",
    "#       _model.add(tf.keras.layers.Dense(10, activation=tf.nn.softmax))\n",
    "#\n",
    "#       _model.compile(optimizer=optimizer, loss=loss, metrics=['accuracy'])\n",
    "#\n",
    "#       return _model"
   ],
   "metadata": {
    "collapsed": false,
    "pycharm": {
     "name": "#%%\n"
    }
   }
  },
  {
   "cell_type": "code",
   "execution_count": 12,
   "outputs": [],
   "source": [
    "# model = build_model(len(tokenizer.word_index), hidden_size=1, hidden_layer=tf.keras.layers.LSTM, neurons=64, optimizer=tf.keras.optimizers.Adam())\n",
    "\n",
    "model = tf.keras.Sequential([\n",
    "      tf.keras.layers.Embedding(len(tokenizer.word_index), 16, input_length=max_length),\n",
    "      tf.keras.layers.Bidirectional(tf.keras.layers.LSTM(128, return_sequences=True)),\n",
    "      tf.keras.layers.Bidirectional(tf.keras.layers.LSTM(64)),\n",
    "      tf.keras.layers.Dense(9, activation=tf.nn.softmax)\n",
    "])\n",
    "\n",
    "model.compile(optimizer=tf.keras.optimizers.Adam(learning_rate=1e-4), loss=tf.keras.losses.CategoricalCrossentropy(), metrics=['accuracy'])\n"
   ],
   "metadata": {
    "collapsed": false,
    "pycharm": {
     "name": "#%%\n"
    }
   }
  },
  {
   "cell_type": "code",
   "execution_count": 20,
   "outputs": [
    {
     "name": "stdout",
     "output_type": "stream",
     "text": [
      "Model: \"sequential\"\n",
      "_________________________________________________________________\n",
      " Layer (type)                Output Shape              Param #   \n",
      "=================================================================\n",
      " embedding (Embedding)       (None, 40, 16)            36448     \n",
      "                                                                 \n",
      " bidirectional (Bidirectiona  (None, 40, 256)          148480    \n",
      " l)                                                              \n",
      "                                                                 \n",
      " bidirectional_1 (Bidirectio  (None, 128)              164352    \n",
      " nal)                                                            \n",
      "                                                                 \n",
      " dense (Dense)               (None, 9)                 1161      \n",
      "                                                                 \n",
      "=================================================================\n",
      "Total params: 350,441\n",
      "Trainable params: 350,441\n",
      "Non-trainable params: 0\n",
      "_________________________________________________________________\n"
     ]
    }
   ],
   "source": [
    "model.summary()"
   ],
   "metadata": {
    "collapsed": false,
    "pycharm": {
     "name": "#%%\n"
    }
   }
  },
  {
   "cell_type": "code",
   "execution_count": 13,
   "outputs": [
    {
     "name": "stdout",
     "output_type": "stream",
     "text": [
      "Epoch 1/100\n",
      "16/16 [==============================] - 11s 167ms/step - loss: 2.1815 - accuracy: 0.4126 - val_loss: 2.1624 - val_accuracy: 0.4329\n",
      "Epoch 2/100\n",
      "16/16 [==============================] - 1s 40ms/step - loss: 2.1298 - accuracy: 0.4813 - val_loss: 2.0955 - val_accuracy: 0.4329\n",
      "Epoch 3/100\n",
      "16/16 [==============================] - 1s 39ms/step - loss: 2.0089 - accuracy: 0.4625 - val_loss: 1.9151 - val_accuracy: 0.4329\n",
      "Epoch 4/100\n",
      "16/16 [==============================] - 1s 37ms/step - loss: 1.8271 - accuracy: 0.4656 - val_loss: 1.8697 - val_accuracy: 0.4329\n",
      "Epoch 5/100\n",
      "16/16 [==============================] - 1s 37ms/step - loss: 1.7809 - accuracy: 0.4754 - val_loss: 1.8484 - val_accuracy: 0.4329\n",
      "Epoch 6/100\n",
      "16/16 [==============================] - 1s 36ms/step - loss: 1.7990 - accuracy: 0.4605 - val_loss: 1.8507 - val_accuracy: 0.4329\n",
      "Epoch 7/100\n",
      "16/16 [==============================] - 1s 35ms/step - loss: 1.7525 - accuracy: 0.4833 - val_loss: 1.8519 - val_accuracy: 0.4329\n",
      "Epoch 8/100\n",
      "16/16 [==============================] - 1s 35ms/step - loss: 1.8052 - accuracy: 0.4538 - val_loss: 1.8476 - val_accuracy: 0.4329\n",
      "Epoch 9/100\n",
      "16/16 [==============================] - 1s 33ms/step - loss: 1.7683 - accuracy: 0.4644 - val_loss: 1.8536 - val_accuracy: 0.4329\n",
      "Epoch 10/100\n",
      "16/16 [==============================] - 1s 34ms/step - loss: 1.7244 - accuracy: 0.4813 - val_loss: 1.8449 - val_accuracy: 0.4329\n",
      "Epoch 11/100\n",
      "16/16 [==============================] - 1s 32ms/step - loss: 1.7707 - accuracy: 0.4538 - val_loss: 1.8367 - val_accuracy: 0.4329\n",
      "Epoch 12/100\n",
      "16/16 [==============================] - 1s 34ms/step - loss: 1.7269 - accuracy: 0.4664 - val_loss: 1.8284 - val_accuracy: 0.4329\n",
      "Epoch 13/100\n",
      "16/16 [==============================] - 1s 32ms/step - loss: 1.6517 - accuracy: 0.4794 - val_loss: 1.8136 - val_accuracy: 0.4329\n",
      "Epoch 14/100\n",
      "16/16 [==============================] - 1s 34ms/step - loss: 1.5953 - accuracy: 0.4538 - val_loss: 1.7878 - val_accuracy: 0.4512\n",
      "Epoch 15/100\n",
      "16/16 [==============================] - 1s 32ms/step - loss: 1.3029 - accuracy: 0.5000 - val_loss: 2.0243 - val_accuracy: 0.3293\n",
      "Epoch 16/100\n",
      "16/16 [==============================] - 1s 33ms/step - loss: 1.2552 - accuracy: 0.5049 - val_loss: 2.1060 - val_accuracy: 0.3049\n",
      "Epoch 17/100\n",
      "16/16 [==============================] - 1s 39ms/step - loss: 1.2047 - accuracy: 0.5442 - val_loss: 2.0678 - val_accuracy: 0.3841\n",
      "Epoch 18/100\n",
      "16/16 [==============================] - 1s 38ms/step - loss: 1.1891 - accuracy: 0.5395 - val_loss: 2.0745 - val_accuracy: 0.3963\n",
      "Epoch 19/100\n",
      "16/16 [==============================] - 1s 37ms/step - loss: 1.1905 - accuracy: 0.5226 - val_loss: 2.1009 - val_accuracy: 0.3537\n",
      "Epoch 20/100\n",
      "16/16 [==============================] - 1s 36ms/step - loss: 1.1180 - accuracy: 0.5697 - val_loss: 2.1338 - val_accuracy: 0.3354\n",
      "Epoch 21/100\n",
      "16/16 [==============================] - 1s 38ms/step - loss: 1.1620 - accuracy: 0.5474 - val_loss: 2.1146 - val_accuracy: 0.3902\n",
      "Epoch 22/100\n",
      "16/16 [==============================] - 1s 38ms/step - loss: 1.1215 - accuracy: 0.5776 - val_loss: 2.0719 - val_accuracy: 0.3963\n",
      "Epoch 23/100\n",
      "16/16 [==============================] - 1s 38ms/step - loss: 1.1196 - accuracy: 0.5717 - val_loss: 2.1098 - val_accuracy: 0.3293\n",
      "Epoch 24/100\n",
      "16/16 [==============================] - 1s 37ms/step - loss: 1.0915 - accuracy: 0.5909 - val_loss: 2.1247 - val_accuracy: 0.2927\n",
      "Epoch 25/100\n",
      "16/16 [==============================] - 1s 38ms/step - loss: 1.0640 - accuracy: 0.5992 - val_loss: 2.1411 - val_accuracy: 0.2866\n",
      "Epoch 26/100\n",
      "16/16 [==============================] - 1s 36ms/step - loss: 1.0540 - accuracy: 0.6031 - val_loss: 2.1915 - val_accuracy: 0.2988\n",
      "Epoch 27/100\n",
      "16/16 [==============================] - 1s 36ms/step - loss: 0.9532 - accuracy: 0.6403 - val_loss: 2.1804 - val_accuracy: 0.3049\n",
      "Epoch 28/100\n",
      "16/16 [==============================] - 1s 37ms/step - loss: 0.9858 - accuracy: 0.6287 - val_loss: 2.2838 - val_accuracy: 0.2927\n",
      "Epoch 29/100\n",
      "16/16 [==============================] - 1s 35ms/step - loss: 0.9165 - accuracy: 0.6798 - val_loss: 2.3442 - val_accuracy: 0.2805\n",
      "Epoch 30/100\n",
      "16/16 [==============================] - 1s 35ms/step - loss: 0.9065 - accuracy: 0.6759 - val_loss: 2.4409 - val_accuracy: 0.2744\n",
      "Epoch 31/100\n",
      "16/16 [==============================] - 1s 39ms/step - loss: 0.8688 - accuracy: 0.6916 - val_loss: 2.4791 - val_accuracy: 0.3171\n",
      "Epoch 32/100\n",
      "16/16 [==============================] - 1s 37ms/step - loss: 0.7852 - accuracy: 0.6994 - val_loss: 2.5609 - val_accuracy: 0.2500\n",
      "Epoch 33/100\n",
      "16/16 [==============================] - 1s 37ms/step - loss: 0.7601 - accuracy: 0.7154 - val_loss: 2.7256 - val_accuracy: 0.2561\n",
      "Epoch 34/100\n",
      "16/16 [==============================] - 1s 36ms/step - loss: 0.7055 - accuracy: 0.7092 - val_loss: 2.8269 - val_accuracy: 0.2744\n",
      "Epoch 35/100\n",
      "16/16 [==============================] - 1s 37ms/step - loss: 0.5892 - accuracy: 0.8016 - val_loss: 2.9619 - val_accuracy: 0.2927\n",
      "Epoch 36/100\n",
      "16/16 [==============================] - 1s 35ms/step - loss: 0.6024 - accuracy: 0.7826 - val_loss: 3.0061 - val_accuracy: 0.2378\n",
      "Epoch 37/100\n",
      "16/16 [==============================] - 1s 34ms/step - loss: 0.6504 - accuracy: 0.7269 - val_loss: 3.1627 - val_accuracy: 0.2683\n",
      "Epoch 38/100\n",
      "16/16 [==============================] - 1s 36ms/step - loss: 0.5873 - accuracy: 0.7800 - val_loss: 3.1542 - val_accuracy: 0.2866\n",
      "Epoch 39/100\n",
      "16/16 [==============================] - 1s 35ms/step - loss: 0.4871 - accuracy: 0.8320 - val_loss: 3.2137 - val_accuracy: 0.2805\n",
      "Epoch 40/100\n",
      "16/16 [==============================] - 1s 35ms/step - loss: 0.4573 - accuracy: 0.8527 - val_loss: 3.3048 - val_accuracy: 0.2866\n",
      "Epoch 41/100\n",
      "16/16 [==============================] - 1s 34ms/step - loss: 0.3760 - accuracy: 0.8978 - val_loss: 3.4036 - val_accuracy: 0.2805\n",
      "Epoch 42/100\n",
      "16/16 [==============================] - 1s 35ms/step - loss: 0.3955 - accuracy: 0.8676 - val_loss: 3.4603 - val_accuracy: 0.2866\n",
      "Epoch 43/100\n",
      "16/16 [==============================] - 1s 36ms/step - loss: 0.3571 - accuracy: 0.8959 - val_loss: 3.5057 - val_accuracy: 0.2866\n",
      "Epoch 44/100\n",
      "16/16 [==============================] - 1s 34ms/step - loss: 0.3545 - accuracy: 0.9155 - val_loss: 3.5482 - val_accuracy: 0.3049\n",
      "Epoch 45/100\n",
      "16/16 [==============================] - 1s 35ms/step - loss: 0.3299 - accuracy: 0.9249 - val_loss: 3.5722 - val_accuracy: 0.2988\n",
      "Epoch 46/100\n",
      "16/16 [==============================] - 1s 34ms/step - loss: 0.3299 - accuracy: 0.9214 - val_loss: 3.6232 - val_accuracy: 0.2988\n",
      "Epoch 47/100\n",
      "16/16 [==============================] - 1s 40ms/step - loss: 0.2643 - accuracy: 0.9391 - val_loss: 3.6729 - val_accuracy: 0.2744\n",
      "Epoch 48/100\n",
      "16/16 [==============================] - 1s 35ms/step - loss: 0.3019 - accuracy: 0.9269 - val_loss: 3.7188 - val_accuracy: 0.2561\n",
      "Epoch 49/100\n",
      "16/16 [==============================] - 1s 37ms/step - loss: 0.2638 - accuracy: 0.9411 - val_loss: 3.7040 - val_accuracy: 0.2988\n",
      "Epoch 50/100\n",
      "16/16 [==============================] - 1s 38ms/step - loss: 0.2987 - accuracy: 0.9234 - val_loss: 3.7548 - val_accuracy: 0.2683\n",
      "Epoch 51/100\n",
      "16/16 [==============================] - 1s 36ms/step - loss: 0.2467 - accuracy: 0.9545 - val_loss: 3.7473 - val_accuracy: 0.2683\n",
      "Epoch 52/100\n",
      "16/16 [==============================] - 1s 36ms/step - loss: 0.2593 - accuracy: 0.9391 - val_loss: 3.7773 - val_accuracy: 0.3049\n",
      "Epoch 53/100\n",
      "16/16 [==============================] - 1s 37ms/step - loss: 0.2421 - accuracy: 0.9430 - val_loss: 3.8168 - val_accuracy: 0.2866\n",
      "Epoch 54/100\n",
      "16/16 [==============================] - 1s 36ms/step - loss: 0.2249 - accuracy: 0.9664 - val_loss: 3.8285 - val_accuracy: 0.2744\n",
      "Epoch 55/100\n",
      "16/16 [==============================] - 1s 36ms/step - loss: 0.2255 - accuracy: 0.9587 - val_loss: 3.8371 - val_accuracy: 0.2805\n",
      "Epoch 56/100\n",
      "16/16 [==============================] - 1s 35ms/step - loss: 0.2173 - accuracy: 0.9705 - val_loss: 3.8921 - val_accuracy: 0.2622\n",
      "Epoch 57/100\n",
      "16/16 [==============================] - 1s 34ms/step - loss: 0.2062 - accuracy: 0.9684 - val_loss: 3.9246 - val_accuracy: 0.2744\n",
      "Epoch 58/100\n",
      "16/16 [==============================] - 1s 35ms/step - loss: 0.2564 - accuracy: 0.9509 - val_loss: 3.8849 - val_accuracy: 0.2866\n",
      "Epoch 59/100\n",
      "16/16 [==============================] - 1s 37ms/step - loss: 0.2077 - accuracy: 0.9587 - val_loss: 3.8745 - val_accuracy: 0.3171\n",
      "Epoch 60/100\n",
      "16/16 [==============================] - 1s 36ms/step - loss: 0.2101 - accuracy: 0.9743 - val_loss: 3.9535 - val_accuracy: 0.2927\n",
      "Epoch 61/100\n",
      "16/16 [==============================] - 1s 37ms/step - loss: 0.1944 - accuracy: 0.9705 - val_loss: 3.9536 - val_accuracy: 0.3049\n",
      "Epoch 62/100\n",
      "16/16 [==============================] - 1s 34ms/step - loss: 0.2130 - accuracy: 0.9509 - val_loss: 3.9701 - val_accuracy: 0.2927\n",
      "Epoch 63/100\n",
      "16/16 [==============================] - 1s 35ms/step - loss: 0.1819 - accuracy: 0.9743 - val_loss: 3.9921 - val_accuracy: 0.2866\n",
      "Epoch 64/100\n",
      "16/16 [==============================] - 1s 35ms/step - loss: 0.1660 - accuracy: 0.9804 - val_loss: 4.0189 - val_accuracy: 0.2866\n",
      "Epoch 65/100\n",
      "16/16 [==============================] - 1s 39ms/step - loss: 0.1471 - accuracy: 0.9902 - val_loss: 4.0402 - val_accuracy: 0.2805\n",
      "Epoch 66/100\n",
      "16/16 [==============================] - 1s 34ms/step - loss: 0.1635 - accuracy: 0.9763 - val_loss: 4.0614 - val_accuracy: 0.2744\n",
      "Epoch 67/100\n",
      "16/16 [==============================] - 1s 37ms/step - loss: 0.1418 - accuracy: 0.9843 - val_loss: 4.0931 - val_accuracy: 0.2805\n",
      "Epoch 68/100\n",
      "16/16 [==============================] - 1s 36ms/step - loss: 0.1865 - accuracy: 0.9764 - val_loss: 4.0306 - val_accuracy: 0.3110\n",
      "Epoch 69/100\n",
      "16/16 [==============================] - 1s 34ms/step - loss: 0.1344 - accuracy: 0.9862 - val_loss: 4.0698 - val_accuracy: 0.2927\n",
      "Epoch 70/100\n",
      "16/16 [==============================] - 1s 33ms/step - loss: 0.1512 - accuracy: 0.9804 - val_loss: 4.1003 - val_accuracy: 0.2988\n",
      "Epoch 71/100\n",
      "16/16 [==============================] - 1s 32ms/step - loss: 0.1041 - accuracy: 0.9941 - val_loss: 4.1629 - val_accuracy: 0.2744\n",
      "Epoch 72/100\n",
      "16/16 [==============================] - 0s 32ms/step - loss: 0.1514 - accuracy: 0.9802 - val_loss: 4.1103 - val_accuracy: 0.2988\n",
      "Epoch 73/100\n",
      "16/16 [==============================] - 1s 33ms/step - loss: 0.1303 - accuracy: 0.9862 - val_loss: 4.1208 - val_accuracy: 0.3171\n",
      "Epoch 74/100\n",
      "16/16 [==============================] - 1s 32ms/step - loss: 0.1322 - accuracy: 0.9862 - val_loss: 4.1415 - val_accuracy: 0.3049\n",
      "Epoch 75/100\n",
      "16/16 [==============================] - 1s 33ms/step - loss: 0.1465 - accuracy: 0.9802 - val_loss: 4.1118 - val_accuracy: 0.2927\n",
      "Epoch 76/100\n",
      "WARNING:tensorflow:Your input ran out of data; interrupting training. Make sure that your dataset or generator can generate at least `steps_per_epoch * epochs` batches (in this case, 1600 batches). You may need to use the repeat() function when building your dataset.\n",
      "16/16 [==============================] - 1s 70ms/step - loss: 0.1465 - accuracy: 0.9802 - val_loss: 4.1118 - val_accuracy: 0.2927\n"
     ]
    }
   ],
   "source": [
    "history = model.fit(pad_sequence_train, pd.get_dummies(emotion_train).values, epochs=100, verbose=1, batch_size=32, steps_per_epoch=16, validation_data=(pad_sequence_valid, pd.get_dummies(emotion_valid)))"
   ],
   "metadata": {
    "collapsed": false,
    "pycharm": {
     "name": "#%%\n"
    }
   }
  },
  {
   "cell_type": "code",
   "execution_count": 14,
   "outputs": [
    {
     "data": {
      "text/plain": "<Figure size 432x288 with 1 Axes>",
      "image/png": "[encoded data removed]"
     },
     "metadata": {
      "needs_background": "light"
     },
     "output_type": "display_data"
    }
   ],
   "source": [
    "from matplotlib import pyplot as plt\n",
    "\n",
    "plt.plot(history.history['loss'])\n",
    "plt.plot(history.history['val_loss'])\n",
    "plt.show()"
   ],
   "metadata": {
    "collapsed": false,
    "pycharm": {
     "name": "#%%\n"
    }
   }
  },
  {
   "cell_type": "code",
   "execution_count": 15,
   "outputs": [],
   "source": [
    "y_pred = model.predict(pad_sequence_valid)"
   ],
   "metadata": {
    "collapsed": false,
    "pycharm": {
     "name": "#%%\n"
    }
   }
  },
  {
   "cell_type": "code",
   "execution_count": 16,
   "outputs": [
    {
     "data": {
      "text/plain": "array([[[142,   8],\n        [ 13,   1]],\n\n       [[134,   9],\n        [ 17,   4]],\n\n       [[140,  17],\n        [  6,   1]],\n\n       [[ 85,   8],\n        [ 42,  29]],\n\n       [[133,  20],\n        [ 10,   1]],\n\n       [[136,  17],\n        [  8,   3]],\n\n       [[150,   1],\n        [ 10,   3]],\n\n       [[141,  19],\n        [  3,   1]],\n\n       [[144,   8],\n        [  8,   4]]], dtype=int64)"
     },
     "execution_count": 16,
     "metadata": {},
     "output_type": "execute_result"
    }
   ],
   "source": [
    "from sklearn.metrics import multilabel_confusion_matrix, confusion_matrix\n",
    "\n",
    "confusion_matrix = multilabel_confusion_matrix(y_true=pd.get_dummies(emotion_valid).values, y_pred=y_pred.round())\n",
    "confusion_matrix"
   ],
   "metadata": {
    "collapsed": false,
    "pycharm": {
     "name": "#%%\n"
    }
   }
  },
  {
   "cell_type": "code",
   "execution_count": 17,
   "outputs": [
    {
     "data": {
      "text/plain": "array([[0, 0, 0, ..., 0, 0, 0],\n       [0, 0, 1, ..., 0, 0, 0],\n       [0, 0, 0, ..., 0, 0, 0],\n       ...,\n       [0, 0, 0, ..., 0, 0, 0],\n       [0, 0, 0, ..., 0, 0, 0],\n       [0, 0, 0, ..., 0, 1, 0]], dtype=uint8)"
     },
     "execution_count": 17,
     "metadata": {},
     "output_type": "execute_result"
    }
   ],
   "source": [
    "pd.get_dummies(emotion_valid).values"
   ],
   "metadata": {
    "collapsed": false,
    "pycharm": {
     "name": "#%%\n"
    }
   }
  },
  {
   "cell_type": "code",
   "execution_count": 18,
   "outputs": [
    {
     "data": {
      "text/plain": "array([[0., 0., 0., ..., 0., 0., 0.],\n       [0., 0., 1., ..., 0., 0., 0.],\n       [0., 0., 0., ..., 0., 0., 0.],\n       ...,\n       [0., 0., 0., ..., 0., 0., 0.],\n       [0., 0., 1., ..., 0., 0., 0.],\n       [1., 0., 0., ..., 0., 0., 0.]], dtype=float32)"
     },
     "execution_count": 18,
     "metadata": {},
     "output_type": "execute_result"
    }
   ],
   "source": [
    "y_pred.round()"
   ],
   "metadata": {
    "collapsed": false,
    "pycharm": {
     "name": "#%%\n"
    }
   }
  },
  {
   "cell_type": "code",
   "execution_count": 37,
   "outputs": [],
   "source": [
    "text_predict = 'GUA SENENG BANGET GILA HHHH KOK DIA KAYA GINI SIH'"
   ],
   "metadata": {
    "collapsed": false,
    "pycharm": {
     "name": "#%%\n"
    }
   }
  },
  {
   "cell_type": "code",
   "execution_count": 40,
   "outputs": [
    {
     "data": {
      "text/plain": "[[210, 141, 11, 1, 1, 452, 65, 440, 328, 40]]"
     },
     "execution_count": 40,
     "metadata": {},
     "output_type": "execute_result"
    }
   ],
   "source": [
    "text_seq = tokenizer.texts_to_sequences([text_predict])\n",
    "text_seq"
   ],
   "metadata": {
    "collapsed": false,
    "pycharm": {
     "name": "#%%\n"
    }
   }
  },
  {
   "cell_type": "code",
   "execution_count": 48,
   "outputs": [
    {
     "name": "stdout",
     "output_type": "stream",
     "text": [
      "[[210 141  11   1   1 452  65 440 328  40   0   0   0   0   0   0   0   0\n",
      "    0   0   0   0   0   0   0   0   0   0   0   0   0   0   0   0   0   0\n",
      "    0   0   0   0]]\n"
     ]
    }
   ],
   "source": [
    "text_pad = tf.keras.preprocessing.sequence.pad_sequences(text_seq, maxlen=max_length, padding=padding, truncating=trunc_type)\n",
    "print(text_pad)"
   ],
   "metadata": {
    "collapsed": false,
    "pycharm": {
     "name": "#%%\n"
    }
   }
  },
  {
   "cell_type": "code",
   "execution_count": 49,
   "outputs": [
    {
     "data": {
      "text/plain": "array([[1.6183153e-03, 3.8667249e-03, 1.0830240e-04, 2.9038698e-03,\n        1.8983658e-02, 3.2221476e-04, 4.5916986e-05, 2.3421592e-03,\n        9.6980888e-01]], dtype=float32)"
     },
     "execution_count": 49,
     "metadata": {},
     "output_type": "execute_result"
    }
   ],
   "source": [
    "model.predict(text_pad)"
   ],
   "metadata": {
    "collapsed": false,
    "pycharm": {
     "name": "#%%\n"
    }
   }
  },
  {
   "cell_type": "code",
   "execution_count": 36,
   "outputs": [
    {
     "name": "stdout",
     "output_type": "stream",
     "text": [
      "[[210, 141, 11, 1, 1, 452, 65, 440, 328, 40]]\n"
     ]
    }
   ],
   "source": [
    "text_token =\n",
    "\n",
    "print(tokenizer.texts_to_sequences(['GUA SENENG BANGET GILA HHHH KOK DIA KAYA GINI SIH']))"
   ],
   "metadata": {
    "collapsed": false,
    "pycharm": {
     "name": "#%%\n"
    }
   }
  },
  {
   "cell_type": "code",
   "execution_count": 34,
   "outputs": [
    {
     "name": "stdout",
     "output_type": "stream",
     "text": [
      "[[ 47   1 226 ...   0   0   0]\n",
      " [ 32   1   1 ...   0   0   0]\n",
      " [  1  19   1 ...   0   0   0]\n",
      " ...\n",
      " [200  91  33 ...   0   0   0]\n",
      " [ 69  79   1 ...   0   0   0]\n",
      " [ 93  12  52 ...   0   0   0]]\n"
     ]
    }
   ],
   "source": [
    "print(pad_sequence_valid)"
   ],
   "metadata": {
    "collapsed": false,
    "pycharm": {
     "name": "#%%\n"
    }
   }
  },
  {
   "cell_type": "code",
   "execution_count": 45,
   "outputs": [
    {
     "name": "stderr",
     "output_type": "stream",
     "text": [
      "WARNING:absl:Found untraced functions such as lstm_cell_7_layer_call_fn, lstm_cell_7_layer_call_and_return_conditional_losses, lstm_cell_8_layer_call_fn, lstm_cell_8_layer_call_and_return_conditional_losses, lstm_cell_10_layer_call_fn while saving (showing 5 of 20). These functions will not be directly callable after loading.\n"
     ]
    },
    {
     "name": "stdout",
     "output_type": "stream",
     "text": [
      "INFO:tensorflow:Assets written to: ../model/emotion-analysis\\assets\n"
     ]
    },
    {
     "name": "stderr",
     "output_type": "stream",
     "text": [
      "INFO:tensorflow:Assets written to: ../model/emotion-analysis\\assets\n",
      "WARNING:absl:<keras.layers.recurrent.LSTMCell object at 0x00000153EA7E09A0> has the same name 'LSTMCell' as a built-in Keras object. Consider renaming <class 'keras.layers.recurrent.LSTMCell'> to avoid naming conflicts when loading with `tf.keras.models.load_model`. If renaming is not possible, pass the object in the `custom_objects` parameter of the load function.\n",
      "WARNING:absl:<keras.layers.recurrent.LSTMCell object at 0x00000153E3AEC130> has the same name 'LSTMCell' as a built-in Keras object. Consider renaming <class 'keras.layers.recurrent.LSTMCell'> to avoid naming conflicts when loading with `tf.keras.models.load_model`. If renaming is not possible, pass the object in the `custom_objects` parameter of the load function.\n",
      "WARNING:absl:<keras.layers.recurrent.LSTMCell object at 0x00000153E3A5A580> has the same name 'LSTMCell' as a built-in Keras object. Consider renaming <class 'keras.layers.recurrent.LSTMCell'> to avoid naming conflicts when loading with `tf.keras.models.load_model`. If renaming is not possible, pass the object in the `custom_objects` parameter of the load function.\n",
      "WARNING:absl:<keras.layers.recurrent.LSTMCell object at 0x00000153E3A5AF10> has the same name 'LSTMCell' as a built-in Keras object. Consider renaming <class 'keras.layers.recurrent.LSTMCell'> to avoid naming conflicts when loading with `tf.keras.models.load_model`. If renaming is not possible, pass the object in the `custom_objects` parameter of the load function.\n"
     ]
    }
   ],
   "source": [
    "model.save('../model/emotion-analysis')"
   ],
   "metadata": {
    "collapsed": false,
    "pycharm": {
     "name": "#%%\n"
    }
   }
  },
  {
   "cell_type": "code",
   "execution_count": 61,
   "outputs": [
    {
     "ename": "NameError",
     "evalue": "name 'np' is not defined",
     "output_type": "error",
     "traceback": [
      "\u001B[1;31m---------------------------------------------------------------------------\u001B[0m",
      "\u001B[1;31mNameError\u001B[0m                                 Traceback (most recent call last)",
      "\u001B[1;32m~\\AppData\\Local\\Temp/ipykernel_15372/4178482899.py\u001B[0m in \u001B[0;36m<module>\u001B[1;34m\u001B[0m\n\u001B[1;32m----> 1\u001B[1;33m \u001B[0mnp\u001B[0m\u001B[1;33m.\u001B[0m\u001B[0margmax\u001B[0m\u001B[1;33m(\u001B[0m\u001B[0mpd\u001B[0m\u001B[1;33m.\u001B[0m\u001B[0mget_dummies\u001B[0m\u001B[1;33m(\u001B[0m\u001B[0memotion_valid\u001B[0m\u001B[1;33m.\u001B[0m\u001B[0mvalues\u001B[0m\u001B[1;33m)\u001B[0m\u001B[1;33m.\u001B[0m\u001B[0miloc\u001B[0m\u001B[1;33m[\u001B[0m\u001B[1;36m0\u001B[0m\u001B[1;33m]\u001B[0m\u001B[1;33m)\u001B[0m\u001B[1;33m\u001B[0m\u001B[1;33m\u001B[0m\u001B[0m\n\u001B[0m",
      "\u001B[1;31mNameError\u001B[0m: name 'np' is not defined"
     ]
    }
   ],
   "source": [
    "np.argmax(pd.get_dummies(emotion_valid.values).iloc[0])"
   ],
   "metadata": {
    "collapsed": false,
    "pycharm": {
     "name": "#%%\n"
    }
   }
  },
  {
   "cell_type": "code",
   "execution_count": 62,
   "outputs": [
    {
     "data": {
      "text/plain": "3"
     },
     "execution_count": 62,
     "metadata": {},
     "output_type": "execute_result"
    }
   ],
   "source": [
    "import numpy as np\n",
    "\n",
    "np.argmax(pd.get_dummies(emotion_valid.values).iloc[0])"
   ],
   "metadata": {
    "collapsed": false,
    "pycharm": {
     "name": "#%%\n"
    }
   }
  },
  {
   "cell_type": "code",
   "execution_count": 63,
   "outputs": [
    {
     "data": {
      "text/plain": "'h'"
     },
     "execution_count": 63,
     "metadata": {},
     "output_type": "execute_result"
    }
   ],
   "source": [
    "emotion_valid.values[0]"
   ],
   "metadata": {
    "collapsed": false,
    "pycharm": {
     "name": "#%%\n"
    }
   }
  },
  {
   "cell_type": "code",
   "execution_count": 64,
   "outputs": [
    {
     "data": {
      "text/plain": "'h'"
     },
     "execution_count": 64,
     "metadata": {},
     "output_type": "execute_result"
    }
   ],
   "source": [
    "# Expected: h\n",
    "columns[3]"
   ],
   "metadata": {
    "collapsed": false,
    "pycharm": {
     "name": "#%%\n"
    }
   }
  },
  {
   "cell_type": "code",
   "execution_count": 47,
   "outputs": [],
   "source": [
    "import pickle\n",
    "\n",
    "with open('../model/tokenizer.pickle', 'wb') as handle:\n",
    "      pickle.dump(tokenizer, handle, protocol=pickle.HIGHEST_PROTOCOL)"
   ],
   "metadata": {
    "collapsed": false,
    "pycharm": {
     "name": "#%%\n"
    }
   }
  },
  {
   "cell_type": "code",
   "execution_count": null,
   "outputs": [],
   "source": [],
   "metadata": {
    "collapsed": false,
    "pycharm": {
     "name": "#%%\n"
    }
   }
  }
 ],
 "metadata": {
  "kernelspec": {
   "display_name": "Python 3",
   "language": "python",
   "name": "python3"
  },
  "language_info": {
   "codemirror_mode": {
    "name": "ipython",
    "version": 2
   },
   "file_extension": ".py",
   "mimetype": "text/x-python",
   "name": "python",
   "nbconvert_exporter": "python",
   "pygments_lexer": "ipython2",
   "version": "2.7.6"
  }
 },
 "nbformat": 4,
 "nbformat_minor": 0
}